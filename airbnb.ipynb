{
 "cells": [
  {
   "cell_type": "markdown",
   "id": "7d23f771-d447-41f3-ba48-0704647dd7dd",
   "metadata": {},
   "source": [
    "# RENTING BARCELONA"
   ]
  },
  {
   "cell_type": "markdown",
   "id": "c02fd2c1-7ae8-4bfa-8037-5cc90d4a1127",
   "metadata": {
    "jp-MarkdownHeadingCollapsed": true
   },
   "source": [
    "### IMPORTS"
   ]
  },
  {
   "cell_type": "code",
   "execution_count": 801,
   "id": "b2c2e525-704c-46f5-b669-1fc7f0fa2059",
   "metadata": {},
   "outputs": [],
   "source": [
    "import pandas as pd\n",
    "import numpy as np\n",
    "import re"
   ]
  },
  {
   "cell_type": "markdown",
   "id": "14550959-7ce0-422b-9116-d010eef2a81c",
   "metadata": {
    "jp-MarkdownHeadingCollapsed": true
   },
   "source": [
    "## RENT DATASET"
   ]
  },
  {
   "cell_type": "code",
   "execution_count": 802,
   "id": "995a2722-8983-4e11-93e7-ee74a408fd2e",
   "metadata": {},
   "outputs": [],
   "source": [
    "# Import csv de rent. \n",
    "rent = pd.read_csv(\"/Users/roraimachavez/Downloads/7.IRONHACK/Mini projects/sql/csv/Barcelona_rent_price.csv\")"
   ]
  },
  {
   "cell_type": "code",
   "execution_count": 803,
   "id": "d120837e-1ed9-40e5-ac77-d09f15f76fd6",
   "metadata": {},
   "outputs": [
    {
     "name": "stdout",
     "output_type": "stream",
     "text": [
      "<class 'pandas.core.frame.DataFrame'>\n",
      "RangeIndex: 4622 entries, 0 to 4621\n",
      "Data columns (total 6 columns):\n",
      " #   Column         Non-Null Count  Dtype  \n",
      "---  ------         --------------  -----  \n",
      " 0   Year           4622 non-null   int64  \n",
      " 1   Trimester      4622 non-null   int64  \n",
      " 2   District       4622 non-null   object \n",
      " 3   Neighbourhood  4622 non-null   object \n",
      " 4   Average _rent  4622 non-null   object \n",
      " 5   Price          4622 non-null   float64\n",
      "dtypes: float64(1), int64(2), object(3)\n",
      "memory usage: 216.8+ KB\n"
     ]
    }
   ],
   "source": [
    "rent.info()"
   ]
  },
  {
   "cell_type": "code",
   "execution_count": 804,
   "id": "c7c11b9b-479d-45aa-b342-f89749c81c12",
   "metadata": {},
   "outputs": [],
   "source": [
    "# Column name in lower cap.\n",
    "rent.columns = rent.columns.str.lower()"
   ]
  },
  {
   "cell_type": "code",
   "execution_count": 805,
   "id": "37461a47-2e9b-4ef1-8bc7-1d5b133f3b99",
   "metadata": {},
   "outputs": [],
   "source": [
    "# Filter per the year with want.\n",
    "rent_filter = rent.loc[(rent['year']== 2022)] \n",
    "\n",
    "# Assign the new dataframe to the old one\n",
    "rent = rent_filter.copy() "
   ]
  },
  {
   "cell_type": "code",
   "execution_count": 806,
   "id": "176e52ca-b88b-4fee-9b57-e35a3fde2807",
   "metadata": {},
   "outputs": [],
   "source": [
    "# Reset index. \n",
    "rent = rent.reset_index(drop=True)"
   ]
  },
  {
   "cell_type": "code",
   "execution_count": 807,
   "id": "a56b67ab-76e2-4b6a-8ad0-125261b95da9",
   "metadata": {},
   "outputs": [
    {
     "data": {
      "text/html": [
       "<div>\n",
       "<style scoped>\n",
       "    .dataframe tbody tr th:only-of-type {\n",
       "        vertical-align: middle;\n",
       "    }\n",
       "\n",
       "    .dataframe tbody tr th {\n",
       "        vertical-align: top;\n",
       "    }\n",
       "\n",
       "    .dataframe thead th {\n",
       "        text-align: right;\n",
       "    }\n",
       "</style>\n",
       "<table border=\"1\" class=\"dataframe\">\n",
       "  <thead>\n",
       "    <tr style=\"text-align: right;\">\n",
       "      <th></th>\n",
       "      <th>year</th>\n",
       "      <th>trimester</th>\n",
       "      <th>district</th>\n",
       "      <th>neighbourhood</th>\n",
       "      <th>average _rent</th>\n",
       "      <th>price</th>\n",
       "    </tr>\n",
       "  </thead>\n",
       "  <tbody>\n",
       "    <tr>\n",
       "      <th>0</th>\n",
       "      <td>2022</td>\n",
       "      <td>1</td>\n",
       "      <td>Ciutat Vella</td>\n",
       "      <td>el Raval</td>\n",
       "      <td>average rent (euro/month)</td>\n",
       "      <td>917.0</td>\n",
       "    </tr>\n",
       "    <tr>\n",
       "      <th>1</th>\n",
       "      <td>2022</td>\n",
       "      <td>1</td>\n",
       "      <td>Ciutat Vella</td>\n",
       "      <td>Gothic Quarter</td>\n",
       "      <td>average rent (euro/month)</td>\n",
       "      <td>1181.6</td>\n",
       "    </tr>\n",
       "    <tr>\n",
       "      <th>2</th>\n",
       "      <td>2022</td>\n",
       "      <td>1</td>\n",
       "      <td>Ciutat Vella</td>\n",
       "      <td>la Barceloneta</td>\n",
       "      <td>average rent (euro/month)</td>\n",
       "      <td>999.8</td>\n",
       "    </tr>\n",
       "    <tr>\n",
       "      <th>3</th>\n",
       "      <td>2022</td>\n",
       "      <td>1</td>\n",
       "      <td>Ciutat Vella</td>\n",
       "      <td>Sant Pere, Santa Caterina i la Ribera</td>\n",
       "      <td>average rent (euro/month)</td>\n",
       "      <td>1022.8</td>\n",
       "    </tr>\n",
       "    <tr>\n",
       "      <th>4</th>\n",
       "      <td>2022</td>\n",
       "      <td>1</td>\n",
       "      <td>Eixample</td>\n",
       "      <td>Fort Pienc</td>\n",
       "      <td>average rent (euro/month)</td>\n",
       "      <td>957.9</td>\n",
       "    </tr>\n",
       "  </tbody>\n",
       "</table>\n",
       "</div>"
      ],
      "text/plain": [
       "   year  trimester      district                          neighbourhood  \\\n",
       "0  2022          1  Ciutat Vella                               el Raval   \n",
       "1  2022          1  Ciutat Vella                         Gothic Quarter   \n",
       "2  2022          1  Ciutat Vella                         la Barceloneta   \n",
       "3  2022          1  Ciutat Vella  Sant Pere, Santa Caterina i la Ribera   \n",
       "4  2022          1      Eixample                             Fort Pienc   \n",
       "\n",
       "               average _rent   price  \n",
       "0  average rent (euro/month)   917.0  \n",
       "1  average rent (euro/month)  1181.6  \n",
       "2  average rent (euro/month)   999.8  \n",
       "3  average rent (euro/month)  1022.8  \n",
       "4  average rent (euro/month)   957.9  "
      ]
     },
     "execution_count": 807,
     "metadata": {},
     "output_type": "execute_result"
    }
   ],
   "source": [
    "rent.head()"
   ]
  },
  {
   "cell_type": "markdown",
   "id": "5b2fab5b-092a-4463-b4ff-8d3c6e0a7d59",
   "metadata": {},
   "source": [
    "### Get the DISTRICT DATAFRAME. "
   ]
  },
  {
   "cell_type": "markdown",
   "id": "cd5e5ff5-8ea5-412d-9133-50356aa3ecd9",
   "metadata": {},
   "source": [
    "Here we need to make a DataFrame to take district id. So we:\n",
    "\n",
    "- Get unique values.\n",
    "- Generated the id with a index.\n",
    "- Save it. "
   ]
  },
  {
   "cell_type": "code",
   "execution_count": 808,
   "id": "9c2e7cef-9875-4e8a-a470-bec905b9301f",
   "metadata": {},
   "outputs": [],
   "source": [
    "# Make a variable for the uniques categories in district.\n",
    "unique_district =rent[\"district\"].unique()"
   ]
  },
  {
   "cell_type": "code",
   "execution_count": 809,
   "id": "bd6e87f4-9e54-4158-a893-b2e032760808",
   "metadata": {},
   "outputs": [],
   "source": [
    "# Them, make a DataFrame of this categories.\n",
    "district = pd.DataFrame(unique_district, columns=['district'])\n",
    "\n",
    "# Them make a index for this column. \n",
    "district[\"district_id\"] = pd.Series(district[\"district\"], dtype=\"category\").cat.codes + 1"
   ]
  },
  {
   "cell_type": "code",
   "execution_count": 810,
   "id": "960574eb-708a-4f1b-8bf3-92a4bc789fba",
   "metadata": {},
   "outputs": [],
   "source": [
    "district.reset_index(drop=True, inplace=True)"
   ]
  },
  {
   "cell_type": "code",
   "execution_count": 811,
   "id": "8ab8cd49-b60b-4831-9ba5-817d2c0cda09",
   "metadata": {},
   "outputs": [
    {
     "data": {
      "text/html": [
       "<div>\n",
       "<style scoped>\n",
       "    .dataframe tbody tr th:only-of-type {\n",
       "        vertical-align: middle;\n",
       "    }\n",
       "\n",
       "    .dataframe tbody tr th {\n",
       "        vertical-align: top;\n",
       "    }\n",
       "\n",
       "    .dataframe thead th {\n",
       "        text-align: right;\n",
       "    }\n",
       "</style>\n",
       "<table border=\"1\" class=\"dataframe\">\n",
       "  <thead>\n",
       "    <tr style=\"text-align: right;\">\n",
       "      <th></th>\n",
       "      <th>district</th>\n",
       "      <th>district_id</th>\n",
       "    </tr>\n",
       "  </thead>\n",
       "  <tbody>\n",
       "    <tr>\n",
       "      <th>0</th>\n",
       "      <td>Ciutat Vella</td>\n",
       "      <td>1</td>\n",
       "    </tr>\n",
       "    <tr>\n",
       "      <th>1</th>\n",
       "      <td>Eixample</td>\n",
       "      <td>2</td>\n",
       "    </tr>\n",
       "    <tr>\n",
       "      <th>2</th>\n",
       "      <td>Sants-Montjuic</td>\n",
       "      <td>9</td>\n",
       "    </tr>\n",
       "    <tr>\n",
       "      <th>3</th>\n",
       "      <td>Les Corts</td>\n",
       "      <td>5</td>\n",
       "    </tr>\n",
       "    <tr>\n",
       "      <th>4</th>\n",
       "      <td>Sarria-Sant Gervasi</td>\n",
       "      <td>10</td>\n",
       "    </tr>\n",
       "    <tr>\n",
       "      <th>5</th>\n",
       "      <td>Gracia</td>\n",
       "      <td>3</td>\n",
       "    </tr>\n",
       "    <tr>\n",
       "      <th>6</th>\n",
       "      <td>Horta-Guinardo</td>\n",
       "      <td>4</td>\n",
       "    </tr>\n",
       "    <tr>\n",
       "      <th>7</th>\n",
       "      <td>Nou Barris</td>\n",
       "      <td>6</td>\n",
       "    </tr>\n",
       "    <tr>\n",
       "      <th>8</th>\n",
       "      <td>Sant Andreu</td>\n",
       "      <td>7</td>\n",
       "    </tr>\n",
       "    <tr>\n",
       "      <th>9</th>\n",
       "      <td>Sant Marti</td>\n",
       "      <td>8</td>\n",
       "    </tr>\n",
       "  </tbody>\n",
       "</table>\n",
       "</div>"
      ],
      "text/plain": [
       "              district  district_id\n",
       "0         Ciutat Vella            1\n",
       "1             Eixample            2\n",
       "2       Sants-Montjuic            9\n",
       "3            Les Corts            5\n",
       "4  Sarria-Sant Gervasi           10\n",
       "5               Gracia            3\n",
       "6       Horta-Guinardo            4\n",
       "7           Nou Barris            6\n",
       "8          Sant Andreu            7\n",
       "9           Sant Marti            8"
      ]
     },
     "execution_count": 811,
     "metadata": {},
     "output_type": "execute_result"
    }
   ],
   "source": [
    "district"
   ]
  },
  {
   "cell_type": "code",
   "execution_count": 812,
   "id": "40f6183e-ab91-45ea-ab89-13ff5a4280e1",
   "metadata": {},
   "outputs": [],
   "source": [
    "# Save the DataFrame.\n",
    "# district.to_csv('district.csv', index=True)"
   ]
  },
  {
   "cell_type": "markdown",
   "id": "0485a58c-ec73-4597-974c-49b0f1f8bad5",
   "metadata": {},
   "source": [
    "### Get the NEIGHBOURHOOD DATAFRAME. "
   ]
  },
  {
   "cell_type": "markdown",
   "id": "18ccc962-d1f6-4a1e-a9e1-11b7f2aa6fad",
   "metadata": {},
   "source": [
    "Here we need to make a DataFrame to take neighbourhood id. So we:\n",
    "\n",
    "- Get unique values.\n",
    "- Generated the id with a index.\n",
    "- Merge to distric id because we need a table of neighbourhood with the district id. \n",
    "- Save it."
   ]
  },
  {
   "cell_type": "code",
   "execution_count": 813,
   "id": "110e9d2c-3c29-4b55-82ba-d92bd23bf43a",
   "metadata": {},
   "outputs": [],
   "source": [
    "# Make a variable for the uniques categories in district.\n",
    "unique_neighbourhood =rent[\"neighbourhood\"].unique()"
   ]
  },
  {
   "cell_type": "code",
   "execution_count": 814,
   "id": "36819ad1-5a97-40d5-8b62-0ad273a3043a",
   "metadata": {},
   "outputs": [],
   "source": [
    "# Them, make a DataFrame of this categories.\n",
    "rent_neighbourhood = pd.DataFrame(unique_neighbourhood, columns=[\"neighbourhood\"])\n",
    "\n",
    "# Them make a index for this column. \n",
    "rent_neighbourhood[\"neighbourhood_id\"] = pd.Series(rent_neighbourhood[\"neighbourhood\"], dtype=\"category\").cat.codes + 1"
   ]
  },
  {
   "cell_type": "markdown",
   "id": "81104eba-8aa5-46b2-9c04-358830a7b211",
   "metadata": {},
   "source": [
    "**HERE WE CAME BACK TO RENT FIRTS TO GET EVERYTHING TOGETHER**"
   ]
  },
  {
   "cell_type": "code",
   "execution_count": 815,
   "id": "386c7681-3af0-498b-b426-836166079bd9",
   "metadata": {},
   "outputs": [],
   "source": [
    "# Merge distric df firts. \n",
    "rent = pd.merge(rent, district, on='district')"
   ]
  },
  {
   "cell_type": "code",
   "execution_count": 816,
   "id": "27b8a12a-9b58-4693-b58f-3500e6d10f8b",
   "metadata": {},
   "outputs": [],
   "source": [
    "# Merge neighbourhood df. \n",
    "rent = pd.merge(rent, rent_neighbourhood, on='neighbourhood')"
   ]
  },
  {
   "cell_type": "code",
   "execution_count": 817,
   "id": "712b3c74-07f0-424a-9be1-66177da164ec",
   "metadata": {},
   "outputs": [
    {
     "data": {
      "text/html": [
       "<div>\n",
       "<style scoped>\n",
       "    .dataframe tbody tr th:only-of-type {\n",
       "        vertical-align: middle;\n",
       "    }\n",
       "\n",
       "    .dataframe tbody tr th {\n",
       "        vertical-align: top;\n",
       "    }\n",
       "\n",
       "    .dataframe thead th {\n",
       "        text-align: right;\n",
       "    }\n",
       "</style>\n",
       "<table border=\"1\" class=\"dataframe\">\n",
       "  <thead>\n",
       "    <tr style=\"text-align: right;\">\n",
       "      <th></th>\n",
       "      <th>year</th>\n",
       "      <th>trimester</th>\n",
       "      <th>district</th>\n",
       "      <th>neighbourhood</th>\n",
       "      <th>average _rent</th>\n",
       "      <th>price</th>\n",
       "      <th>district_id</th>\n",
       "      <th>neighbourhood_id</th>\n",
       "    </tr>\n",
       "  </thead>\n",
       "  <tbody>\n",
       "    <tr>\n",
       "      <th>0</th>\n",
       "      <td>2022</td>\n",
       "      <td>1</td>\n",
       "      <td>Ciutat Vella</td>\n",
       "      <td>el Raval</td>\n",
       "      <td>average rent (euro/month)</td>\n",
       "      <td>917.0</td>\n",
       "      <td>1</td>\n",
       "      <td>43</td>\n",
       "    </tr>\n",
       "    <tr>\n",
       "      <th>1</th>\n",
       "      <td>2022</td>\n",
       "      <td>1</td>\n",
       "      <td>Ciutat Vella</td>\n",
       "      <td>el Raval</td>\n",
       "      <td>average rent per surface (euro/m2)</td>\n",
       "      <td>15.5</td>\n",
       "      <td>1</td>\n",
       "      <td>43</td>\n",
       "    </tr>\n",
       "    <tr>\n",
       "      <th>2</th>\n",
       "      <td>2022</td>\n",
       "      <td>2</td>\n",
       "      <td>Ciutat Vella</td>\n",
       "      <td>el Raval</td>\n",
       "      <td>average rent (euro/month)</td>\n",
       "      <td>872.0</td>\n",
       "      <td>1</td>\n",
       "      <td>43</td>\n",
       "    </tr>\n",
       "    <tr>\n",
       "      <th>3</th>\n",
       "      <td>2022</td>\n",
       "      <td>2</td>\n",
       "      <td>Ciutat Vella</td>\n",
       "      <td>el Raval</td>\n",
       "      <td>average rent per surface (euro/m2)</td>\n",
       "      <td>14.7</td>\n",
       "      <td>1</td>\n",
       "      <td>43</td>\n",
       "    </tr>\n",
       "    <tr>\n",
       "      <th>4</th>\n",
       "      <td>2022</td>\n",
       "      <td>1</td>\n",
       "      <td>Ciutat Vella</td>\n",
       "      <td>Gothic Quarter</td>\n",
       "      <td>average rent (euro/month)</td>\n",
       "      <td>1181.6</td>\n",
       "      <td>1</td>\n",
       "      <td>6</td>\n",
       "    </tr>\n",
       "  </tbody>\n",
       "</table>\n",
       "</div>"
      ],
      "text/plain": [
       "   year  trimester      district   neighbourhood  \\\n",
       "0  2022          1  Ciutat Vella        el Raval   \n",
       "1  2022          1  Ciutat Vella        el Raval   \n",
       "2  2022          2  Ciutat Vella        el Raval   \n",
       "3  2022          2  Ciutat Vella        el Raval   \n",
       "4  2022          1  Ciutat Vella  Gothic Quarter   \n",
       "\n",
       "                        average _rent   price  district_id  neighbourhood_id  \n",
       "0           average rent (euro/month)   917.0            1                43  \n",
       "1  average rent per surface (euro/m2)    15.5            1                43  \n",
       "2           average rent (euro/month)   872.0            1                43  \n",
       "3  average rent per surface (euro/m2)    14.7            1                43  \n",
       "4           average rent (euro/month)  1181.6            1                 6  "
      ]
     },
     "execution_count": 817,
     "metadata": {},
     "output_type": "execute_result"
    }
   ],
   "source": [
    "rent.head()"
   ]
  },
  {
   "cell_type": "markdown",
   "id": "ac4db598-7f4c-409f-a179-dce9ee3d650b",
   "metadata": {},
   "source": [
    "**FINISH MERGE RENT**"
   ]
  },
  {
   "cell_type": "code",
   "execution_count": 818,
   "id": "464e846e-3a1a-4f01-a003-124433f6e227",
   "metadata": {},
   "outputs": [],
   "source": [
    "# We make a new df dropping columns with don't need from rent df and we can make the new one. We could merge district df with the neighbourhood one but we decide to make it like this. \n",
    "neighbourhood = rent.loc[:, [ \"district_id\", \"neighbourhood\", \"neighbourhood_id\"]]"
   ]
  },
  {
   "cell_type": "code",
   "execution_count": 819,
   "id": "ba6c57bd-ee5d-40c9-80f7-36b486dd7263",
   "metadata": {},
   "outputs": [
    {
     "data": {
      "text/html": [
       "<div>\n",
       "<style scoped>\n",
       "    .dataframe tbody tr th:only-of-type {\n",
       "        vertical-align: middle;\n",
       "    }\n",
       "\n",
       "    .dataframe tbody tr th {\n",
       "        vertical-align: top;\n",
       "    }\n",
       "\n",
       "    .dataframe thead th {\n",
       "        text-align: right;\n",
       "    }\n",
       "</style>\n",
       "<table border=\"1\" class=\"dataframe\">\n",
       "  <thead>\n",
       "    <tr style=\"text-align: right;\">\n",
       "      <th></th>\n",
       "      <th>district_id</th>\n",
       "      <th>neighbourhood</th>\n",
       "      <th>neighbourhood_id</th>\n",
       "    </tr>\n",
       "  </thead>\n",
       "  <tbody>\n",
       "    <tr>\n",
       "      <th>0</th>\n",
       "      <td>1</td>\n",
       "      <td>el Raval</td>\n",
       "      <td>43</td>\n",
       "    </tr>\n",
       "    <tr>\n",
       "      <th>1</th>\n",
       "      <td>1</td>\n",
       "      <td>el Raval</td>\n",
       "      <td>43</td>\n",
       "    </tr>\n",
       "    <tr>\n",
       "      <th>2</th>\n",
       "      <td>1</td>\n",
       "      <td>el Raval</td>\n",
       "      <td>43</td>\n",
       "    </tr>\n",
       "    <tr>\n",
       "      <th>3</th>\n",
       "      <td>1</td>\n",
       "      <td>el Raval</td>\n",
       "      <td>43</td>\n",
       "    </tr>\n",
       "    <tr>\n",
       "      <th>4</th>\n",
       "      <td>1</td>\n",
       "      <td>Gothic Quarter</td>\n",
       "      <td>6</td>\n",
       "    </tr>\n",
       "  </tbody>\n",
       "</table>\n",
       "</div>"
      ],
      "text/plain": [
       "   district_id   neighbourhood  neighbourhood_id\n",
       "0            1        el Raval                43\n",
       "1            1        el Raval                43\n",
       "2            1        el Raval                43\n",
       "3            1        el Raval                43\n",
       "4            1  Gothic Quarter                 6"
      ]
     },
     "execution_count": 819,
     "metadata": {},
     "output_type": "execute_result"
    }
   ],
   "source": [
    "neighbourhood.head()"
   ]
  },
  {
   "cell_type": "code",
   "execution_count": 820,
   "id": "2ee608ba-a41a-4416-bd28-4cc9e97771a4",
   "metadata": {},
   "outputs": [],
   "source": [
    "# We delete duplicates rows since the loc generated many.\n",
    "neighbourhood.drop_duplicates(inplace=True)"
   ]
  },
  {
   "cell_type": "code",
   "execution_count": 821,
   "id": "f2948d4f-6808-47fd-b4cd-3da4226f47ad",
   "metadata": {},
   "outputs": [
    {
     "data": {
      "text/html": [
       "<div>\n",
       "<style scoped>\n",
       "    .dataframe tbody tr th:only-of-type {\n",
       "        vertical-align: middle;\n",
       "    }\n",
       "\n",
       "    .dataframe tbody tr th {\n",
       "        vertical-align: top;\n",
       "    }\n",
       "\n",
       "    .dataframe thead th {\n",
       "        text-align: right;\n",
       "    }\n",
       "</style>\n",
       "<table border=\"1\" class=\"dataframe\">\n",
       "  <thead>\n",
       "    <tr style=\"text-align: right;\">\n",
       "      <th></th>\n",
       "      <th>district_id</th>\n",
       "      <th>neighbourhood</th>\n",
       "      <th>neighbourhood_id</th>\n",
       "    </tr>\n",
       "  </thead>\n",
       "  <tbody>\n",
       "    <tr>\n",
       "      <th>0</th>\n",
       "      <td>1</td>\n",
       "      <td>el Raval</td>\n",
       "      <td>43</td>\n",
       "    </tr>\n",
       "    <tr>\n",
       "      <th>4</th>\n",
       "      <td>1</td>\n",
       "      <td>Gothic Quarter</td>\n",
       "      <td>6</td>\n",
       "    </tr>\n",
       "    <tr>\n",
       "      <th>8</th>\n",
       "      <td>1</td>\n",
       "      <td>la Barceloneta</td>\n",
       "      <td>46</td>\n",
       "    </tr>\n",
       "    <tr>\n",
       "      <th>12</th>\n",
       "      <td>1</td>\n",
       "      <td>Sant Pere, Santa Caterina i la Ribera</td>\n",
       "      <td>21</td>\n",
       "    </tr>\n",
       "    <tr>\n",
       "      <th>16</th>\n",
       "      <td>2</td>\n",
       "      <td>Fort Pienc</td>\n",
       "      <td>5</td>\n",
       "    </tr>\n",
       "  </tbody>\n",
       "</table>\n",
       "</div>"
      ],
      "text/plain": [
       "    district_id                          neighbourhood  neighbourhood_id\n",
       "0             1                               el Raval                43\n",
       "4             1                         Gothic Quarter                 6\n",
       "8             1                         la Barceloneta                46\n",
       "12            1  Sant Pere, Santa Caterina i la Ribera                21\n",
       "16            2                             Fort Pienc                 5"
      ]
     },
     "execution_count": 821,
     "metadata": {},
     "output_type": "execute_result"
    }
   ],
   "source": [
    "neighbourhood.head()"
   ]
  },
  {
   "cell_type": "code",
   "execution_count": 822,
   "id": "a93b511d-7f8a-43d0-a942-67b6e7b6c0e5",
   "metadata": {},
   "outputs": [],
   "source": [
    "# Save neighbourhood df. \n",
    "# neighbourhood.to_csv('neighbourhood.csv', index=True)"
   ]
  },
  {
   "cell_type": "markdown",
   "id": "91814b94-5bb1-473b-a695-13c85fc31300",
   "metadata": {},
   "source": [
    "### CLEAN RENT DATAFRAME"
   ]
  },
  {
   "cell_type": "code",
   "execution_count": 823,
   "id": "6879d1b1-ab74-4a91-a147-7350fde721ee",
   "metadata": {},
   "outputs": [],
   "source": [
    "# Delete columns we don't want.\n",
    "rent = rent.drop([\"district\", \"neighbourhood\", \"trimester\", \"year\" ], axis=1)\n",
    "\n",
    "# Drop cateogry we don't want. \n",
    "rent = rent[rent['average _rent'] != 'average rent per surface (euro/m2)']"
   ]
  },
  {
   "cell_type": "code",
   "execution_count": 824,
   "id": "803b5bca-0505-4a74-a516-c2ab82027909",
   "metadata": {},
   "outputs": [
    {
     "data": {
      "text/html": [
       "<div>\n",
       "<style scoped>\n",
       "    .dataframe tbody tr th:only-of-type {\n",
       "        vertical-align: middle;\n",
       "    }\n",
       "\n",
       "    .dataframe tbody tr th {\n",
       "        vertical-align: top;\n",
       "    }\n",
       "\n",
       "    .dataframe thead th {\n",
       "        text-align: right;\n",
       "    }\n",
       "</style>\n",
       "<table border=\"1\" class=\"dataframe\">\n",
       "  <thead>\n",
       "    <tr style=\"text-align: right;\">\n",
       "      <th></th>\n",
       "      <th>average _rent</th>\n",
       "      <th>price</th>\n",
       "      <th>district_id</th>\n",
       "      <th>neighbourhood_id</th>\n",
       "    </tr>\n",
       "  </thead>\n",
       "  <tbody>\n",
       "    <tr>\n",
       "      <th>0</th>\n",
       "      <td>average rent (euro/month)</td>\n",
       "      <td>917.0</td>\n",
       "      <td>1</td>\n",
       "      <td>43</td>\n",
       "    </tr>\n",
       "    <tr>\n",
       "      <th>2</th>\n",
       "      <td>average rent (euro/month)</td>\n",
       "      <td>872.0</td>\n",
       "      <td>1</td>\n",
       "      <td>43</td>\n",
       "    </tr>\n",
       "    <tr>\n",
       "      <th>4</th>\n",
       "      <td>average rent (euro/month)</td>\n",
       "      <td>1181.6</td>\n",
       "      <td>1</td>\n",
       "      <td>6</td>\n",
       "    </tr>\n",
       "    <tr>\n",
       "      <th>6</th>\n",
       "      <td>average rent (euro/month)</td>\n",
       "      <td>1062.5</td>\n",
       "      <td>1</td>\n",
       "      <td>6</td>\n",
       "    </tr>\n",
       "    <tr>\n",
       "      <th>8</th>\n",
       "      <td>average rent (euro/month)</td>\n",
       "      <td>999.8</td>\n",
       "      <td>1</td>\n",
       "      <td>46</td>\n",
       "    </tr>\n",
       "  </tbody>\n",
       "</table>\n",
       "</div>"
      ],
      "text/plain": [
       "               average _rent   price  district_id  neighbourhood_id\n",
       "0  average rent (euro/month)   917.0            1                43\n",
       "2  average rent (euro/month)   872.0            1                43\n",
       "4  average rent (euro/month)  1181.6            1                 6\n",
       "6  average rent (euro/month)  1062.5            1                 6\n",
       "8  average rent (euro/month)   999.8            1                46"
      ]
     },
     "execution_count": 824,
     "metadata": {},
     "output_type": "execute_result"
    }
   ],
   "source": [
    "rent.head()"
   ]
  },
  {
   "cell_type": "code",
   "execution_count": 825,
   "id": "b0e31118-e4fb-4ae9-ba97-d0a7d44bc3af",
   "metadata": {},
   "outputs": [
    {
     "data": {
      "text/plain": [
       "(135, 4)"
      ]
     },
     "execution_count": 825,
     "metadata": {},
     "output_type": "execute_result"
    }
   ],
   "source": [
    "rent.shape"
   ]
  },
  {
   "cell_type": "code",
   "execution_count": 826,
   "id": "16e65889-cd0b-4ef6-9109-aac3ceccbe04",
   "metadata": {},
   "outputs": [],
   "source": [
    "# Group the columns we need making the calculation of the mean. \n",
    "rent_group = rent.groupby(['neighbourhood_id', 'district_id'])['price'].mean()\n",
    "\n",
    "# Make a new DataFrame.\n",
    "rent = pd.DataFrame(rent_group)"
   ]
  },
  {
   "cell_type": "code",
   "execution_count": 827,
   "id": "4e4748a8-e9aa-4270-984e-b0afdffc4840",
   "metadata": {},
   "outputs": [
    {
     "data": {
      "text/html": [
       "<div>\n",
       "<style scoped>\n",
       "    .dataframe tbody tr th:only-of-type {\n",
       "        vertical-align: middle;\n",
       "    }\n",
       "\n",
       "    .dataframe tbody tr th {\n",
       "        vertical-align: top;\n",
       "    }\n",
       "\n",
       "    .dataframe thead th {\n",
       "        text-align: right;\n",
       "    }\n",
       "</style>\n",
       "<table border=\"1\" class=\"dataframe\">\n",
       "  <thead>\n",
       "    <tr style=\"text-align: right;\">\n",
       "      <th></th>\n",
       "      <th></th>\n",
       "      <th>price</th>\n",
       "    </tr>\n",
       "    <tr>\n",
       "      <th>neighbourhood_id</th>\n",
       "      <th>district_id</th>\n",
       "      <th></th>\n",
       "    </tr>\n",
       "  </thead>\n",
       "  <tbody>\n",
       "    <tr>\n",
       "      <th>1</th>\n",
       "      <th>4</th>\n",
       "      <td>775.00</td>\n",
       "    </tr>\n",
       "    <tr>\n",
       "      <th>2</th>\n",
       "      <th>6</th>\n",
       "      <td>753.15</td>\n",
       "    </tr>\n",
       "    <tr>\n",
       "      <th>3</th>\n",
       "      <th>6</th>\n",
       "      <td>547.50</td>\n",
       "    </tr>\n",
       "    <tr>\n",
       "      <th>4</th>\n",
       "      <th>8</th>\n",
       "      <td>1101.70</td>\n",
       "    </tr>\n",
       "    <tr>\n",
       "      <th>5</th>\n",
       "      <th>2</th>\n",
       "      <td>1032.40</td>\n",
       "    </tr>\n",
       "  </tbody>\n",
       "</table>\n",
       "</div>"
      ],
      "text/plain": [
       "                                price\n",
       "neighbourhood_id district_id         \n",
       "1                4             775.00\n",
       "2                6             753.15\n",
       "3                6             547.50\n",
       "4                8            1101.70\n",
       "5                2            1032.40"
      ]
     },
     "execution_count": 827,
     "metadata": {},
     "output_type": "execute_result"
    }
   ],
   "source": [
    "rent.head()"
   ]
  },
  {
   "cell_type": "code",
   "execution_count": 828,
   "id": "611f52ea-a727-4238-8859-5a7f0e3041bf",
   "metadata": {},
   "outputs": [],
   "source": [
    "# Generated a random index. \n",
    "rent['rent_id'] = np.random.randint(0, 1000, size=len(rent))"
   ]
  },
  {
   "cell_type": "code",
   "execution_count": 829,
   "id": "09a1ca32-792d-463b-a3ba-e53954255ee5",
   "metadata": {},
   "outputs": [],
   "source": [
    "# Change column name. \n",
    "rent.rename(columns = {'price': 'price_avg'}, inplace=True)"
   ]
  },
  {
   "cell_type": "code",
   "execution_count": 830,
   "id": "ea42613a-c126-4ae1-8912-1f819c0b39a0",
   "metadata": {},
   "outputs": [
    {
     "data": {
      "text/html": [
       "<div>\n",
       "<style scoped>\n",
       "    .dataframe tbody tr th:only-of-type {\n",
       "        vertical-align: middle;\n",
       "    }\n",
       "\n",
       "    .dataframe tbody tr th {\n",
       "        vertical-align: top;\n",
       "    }\n",
       "\n",
       "    .dataframe thead th {\n",
       "        text-align: right;\n",
       "    }\n",
       "</style>\n",
       "<table border=\"1\" class=\"dataframe\">\n",
       "  <thead>\n",
       "    <tr style=\"text-align: right;\">\n",
       "      <th></th>\n",
       "      <th></th>\n",
       "      <th>price_avg</th>\n",
       "      <th>rent_id</th>\n",
       "    </tr>\n",
       "    <tr>\n",
       "      <th>neighbourhood_id</th>\n",
       "      <th>district_id</th>\n",
       "      <th></th>\n",
       "      <th></th>\n",
       "    </tr>\n",
       "  </thead>\n",
       "  <tbody>\n",
       "    <tr>\n",
       "      <th>1</th>\n",
       "      <th>4</th>\n",
       "      <td>775.00</td>\n",
       "      <td>644</td>\n",
       "    </tr>\n",
       "    <tr>\n",
       "      <th>2</th>\n",
       "      <th>6</th>\n",
       "      <td>753.15</td>\n",
       "      <td>644</td>\n",
       "    </tr>\n",
       "    <tr>\n",
       "      <th>3</th>\n",
       "      <th>6</th>\n",
       "      <td>547.50</td>\n",
       "      <td>448</td>\n",
       "    </tr>\n",
       "    <tr>\n",
       "      <th>4</th>\n",
       "      <th>8</th>\n",
       "      <td>1101.70</td>\n",
       "      <td>795</td>\n",
       "    </tr>\n",
       "    <tr>\n",
       "      <th>5</th>\n",
       "      <th>2</th>\n",
       "      <td>1032.40</td>\n",
       "      <td>718</td>\n",
       "    </tr>\n",
       "    <tr>\n",
       "      <th>...</th>\n",
       "      <th>...</th>\n",
       "      <td>...</td>\n",
       "      <td>...</td>\n",
       "    </tr>\n",
       "    <tr>\n",
       "      <th>64</th>\n",
       "      <th>8</th>\n",
       "      <td>1373.80</td>\n",
       "      <td>157</td>\n",
       "    </tr>\n",
       "    <tr>\n",
       "      <th>65</th>\n",
       "      <th>3</th>\n",
       "      <td>984.30</td>\n",
       "      <td>970</td>\n",
       "    </tr>\n",
       "    <tr>\n",
       "      <th>66</th>\n",
       "      <th>5</th>\n",
       "      <td>1031.40</td>\n",
       "      <td>711</td>\n",
       "    </tr>\n",
       "    <tr>\n",
       "      <th>67</th>\n",
       "      <th>6</th>\n",
       "      <td>637.05</td>\n",
       "      <td>473</td>\n",
       "    </tr>\n",
       "    <tr>\n",
       "      <th>68</th>\n",
       "      <th>10</th>\n",
       "      <td>1698.90</td>\n",
       "      <td>267</td>\n",
       "    </tr>\n",
       "  </tbody>\n",
       "</table>\n",
       "<p>68 rows × 2 columns</p>\n",
       "</div>"
      ],
      "text/plain": [
       "                              price_avg  rent_id\n",
       "neighbourhood_id district_id                    \n",
       "1                4               775.00      644\n",
       "2                6               753.15      644\n",
       "3                6               547.50      448\n",
       "4                8              1101.70      795\n",
       "5                2              1032.40      718\n",
       "...                                 ...      ...\n",
       "64               8              1373.80      157\n",
       "65               3               984.30      970\n",
       "66               5              1031.40      711\n",
       "67               6               637.05      473\n",
       "68               10             1698.90      267\n",
       "\n",
       "[68 rows x 2 columns]"
      ]
     },
     "execution_count": 830,
     "metadata": {},
     "output_type": "execute_result"
    }
   ],
   "source": [
    "rent"
   ]
  },
  {
   "cell_type": "code",
   "execution_count": 831,
   "id": "32de5b75-7fce-4363-a4be-1c5d1e980ea1",
   "metadata": {},
   "outputs": [],
   "source": [
    "# Save rent df. \n",
    "# rent.to_csv('rent.csv', index=True)"
   ]
  },
  {
   "cell_type": "markdown",
   "id": "931efe16-a01f-44db-852b-c3e7e288c6e1",
   "metadata": {
    "jp-MarkdownHeadingCollapsed": true
   },
   "source": [
    "## AIRBNB DATASET"
   ]
  },
  {
   "cell_type": "code",
   "execution_count": 975,
   "id": "d1dc3aa6-709b-43ba-8748-e1bb8c57f35e",
   "metadata": {},
   "outputs": [],
   "source": [
    "# Import csv. \n",
    "airbnb = pd.read_csv(\"/Users/roraimachavez/Downloads/7.IRONHACK/Mini projects/sql/csv/barcelona_airbnb.csv\")"
   ]
  },
  {
   "cell_type": "code",
   "execution_count": 976,
   "id": "9a98788a-76a5-4700-9e4a-ff8d036e4bf6",
   "metadata": {},
   "outputs": [],
   "source": [
    "# Convert lower case. \n",
    "airbnb.columns = airbnb.columns.str.lower()"
   ]
  },
  {
   "cell_type": "code",
   "execution_count": 977,
   "id": "1c6c9801-498b-4993-b667-cc900bf52900",
   "metadata": {},
   "outputs": [
    {
     "data": {
      "text/html": [
       "<div>\n",
       "<style scoped>\n",
       "    .dataframe tbody tr th:only-of-type {\n",
       "        vertical-align: middle;\n",
       "    }\n",
       "\n",
       "    .dataframe tbody tr th {\n",
       "        vertical-align: top;\n",
       "    }\n",
       "\n",
       "    .dataframe thead th {\n",
       "        text-align: right;\n",
       "    }\n",
       "</style>\n",
       "<table border=\"1\" class=\"dataframe\">\n",
       "  <thead>\n",
       "    <tr style=\"text-align: right;\">\n",
       "      <th></th>\n",
       "      <th>tipo</th>\n",
       "      <th>nombrealojamiento</th>\n",
       "      <th>zona</th>\n",
       "      <th>nhab</th>\n",
       "      <th>servicios</th>\n",
       "      <th>fechas</th>\n",
       "      <th>valoracion</th>\n",
       "      <th>evaluaciones</th>\n",
       "      <th>noche</th>\n",
       "      <th>total</th>\n",
       "    </tr>\n",
       "  </thead>\n",
       "  <tbody>\n",
       "    <tr>\n",
       "      <th>0</th>\n",
       "      <td>Habitación privada</td>\n",
       "      <td>Habitacion centro Barcelona, Ciutat Vella room.</td>\n",
       "      <td>Ciutat Vella</td>\n",
       "      <td>2 huéspedes · 1 dormitorio · 1 cama · 1 baño c...</td>\n",
       "      <td>Wifi · Cocina</td>\n",
       "      <td>17 dic. – 19 dic.</td>\n",
       "      <td>4,60</td>\n",
       "      <td>(25 evaluaciones)</td>\n",
       "      <td>24€</td>\n",
       "      <td>47€ en total</td>\n",
       "    </tr>\n",
       "    <tr>\n",
       "      <th>1</th>\n",
       "      <td>Habitación privada</td>\n",
       "      <td>Agradable habitación en pleno centro de Barcelona</td>\n",
       "      <td>La Font de la Guatlla</td>\n",
       "      <td>1 huésped · 1 dormitorio · 1 cama · 1,5 baños ...</td>\n",
       "      <td>Wifi · Cocina · Aire acondicionado</td>\n",
       "      <td>10 dic. – 12 dic.</td>\n",
       "      <td>4,57</td>\n",
       "      <td>(449 evaluaciones)</td>\n",
       "      <td>29€</td>\n",
       "      <td>57€ en total</td>\n",
       "    </tr>\n",
       "    <tr>\n",
       "      <th>2</th>\n",
       "      <td>Habitación privada</td>\n",
       "      <td>Room in the city center (Gothic,Rambla,Catedral)</td>\n",
       "      <td>Ciutat Vella</td>\n",
       "      <td>1 huésped · 1 dormitorio · 1 cama · 1 baño com...</td>\n",
       "      <td>Wifi · Cocina · Lavadora</td>\n",
       "      <td>24 dic. – 26 dic.</td>\n",
       "      <td>4,48</td>\n",
       "      <td>(120 evaluaciones)</td>\n",
       "      <td>25€</td>\n",
       "      <td>50€ en total</td>\n",
       "    </tr>\n",
       "    <tr>\n",
       "      <th>3</th>\n",
       "      <td>Habitación privada</td>\n",
       "      <td>Comfortable single room</td>\n",
       "      <td>Eixample</td>\n",
       "      <td>1 huésped · 1 dormitorio · 1 cama · 1 baño com...</td>\n",
       "      <td>Wifi · Cocina</td>\n",
       "      <td>31 dic. – 2 ene.</td>\n",
       "      <td>4,57</td>\n",
       "      <td>(35 evaluaciones)</td>\n",
       "      <td>37€</td>\n",
       "      <td>73€ en total</td>\n",
       "    </tr>\n",
       "    <tr>\n",
       "      <th>4</th>\n",
       "      <td>Alojamiento entero: piso</td>\n",
       "      <td>Outstanding aparment &amp;Amazing location :)</td>\n",
       "      <td>Ciutat Vella</td>\n",
       "      <td>2 huéspedes · 1 dormitorio · 1 cama · 1 baño</td>\n",
       "      <td>Wifi · Cocina · Aire acondicionado</td>\n",
       "      <td>17 dic. – 19 dic.</td>\n",
       "      <td>4,77</td>\n",
       "      <td>(35 evaluaciones)</td>\n",
       "      <td>85€</td>\n",
       "      <td>170€ en total</td>\n",
       "    </tr>\n",
       "  </tbody>\n",
       "</table>\n",
       "</div>"
      ],
      "text/plain": [
       "                       tipo  \\\n",
       "0        Habitación privada   \n",
       "1        Habitación privada   \n",
       "2        Habitación privada   \n",
       "3        Habitación privada   \n",
       "4  Alojamiento entero: piso   \n",
       "\n",
       "                                   nombrealojamiento                   zona  \\\n",
       "0    Habitacion centro Barcelona, Ciutat Vella room.           Ciutat Vella   \n",
       "1  Agradable habitación en pleno centro de Barcelona  La Font de la Guatlla   \n",
       "2   Room in the city center (Gothic,Rambla,Catedral)           Ciutat Vella   \n",
       "3                            Comfortable single room               Eixample   \n",
       "4          Outstanding aparment &Amazing location :)           Ciutat Vella   \n",
       "\n",
       "                                                nhab  \\\n",
       "0  2 huéspedes · 1 dormitorio · 1 cama · 1 baño c...   \n",
       "1  1 huésped · 1 dormitorio · 1 cama · 1,5 baños ...   \n",
       "2  1 huésped · 1 dormitorio · 1 cama · 1 baño com...   \n",
       "3  1 huésped · 1 dormitorio · 1 cama · 1 baño com...   \n",
       "4       2 huéspedes · 1 dormitorio · 1 cama · 1 baño   \n",
       "\n",
       "                            servicios             fechas valoracion  \\\n",
       "0                       Wifi · Cocina  17 dic. – 19 dic.       4,60   \n",
       "1  Wifi · Cocina · Aire acondicionado  10 dic. – 12 dic.       4,57   \n",
       "2            Wifi · Cocina · Lavadora  24 dic. – 26 dic.       4,48   \n",
       "3                       Wifi · Cocina   31 dic. – 2 ene.       4,57   \n",
       "4  Wifi · Cocina · Aire acondicionado  17 dic. – 19 dic.       4,77   \n",
       "\n",
       "          evaluaciones noche          total  \n",
       "0    (25 evaluaciones)   24€   47€ en total  \n",
       "1   (449 evaluaciones)   29€   57€ en total  \n",
       "2   (120 evaluaciones)   25€   50€ en total  \n",
       "3    (35 evaluaciones)   37€   73€ en total  \n",
       "4    (35 evaluaciones)   85€  170€ en total  "
      ]
     },
     "execution_count": 977,
     "metadata": {},
     "output_type": "execute_result"
    }
   ],
   "source": [
    "airbnb.head()"
   ]
  },
  {
   "cell_type": "code",
   "execution_count": 978,
   "id": "eb5d5b71-e9e2-426d-8737-0231b430dbfa",
   "metadata": {},
   "outputs": [],
   "source": [
    "# Rename columns. \n",
    "airbnb.rename(columns= {\n",
    "    \"tipo\": \"type\",\n",
    "    \"nombrealojamiento\": \"name\",\n",
    "    \"zona\": \"district\",\n",
    "    \"servicios\":\"services\",\n",
    "    \"valoracion\":\"rating\",\n",
    "    \"noche\":\"price_night\"\n",
    "}, inplace= True)"
   ]
  },
  {
   "cell_type": "code",
   "execution_count": 979,
   "id": "bf2770f5-0edd-461b-a5fa-5423765e58b2",
   "metadata": {},
   "outputs": [],
   "source": [
    "# Delete the ones we don't want. \n",
    "airbnb = airbnb.drop([\"evaluaciones\",\"total\", \"fechas\"], axis=1)"
   ]
  },
  {
   "cell_type": "code",
   "execution_count": 980,
   "id": "a5607afe-f0db-4bee-b74e-c8f3d524ef8e",
   "metadata": {},
   "outputs": [
    {
     "name": "stdout",
     "output_type": "stream",
     "text": [
      "Ciutat Vella\n",
      "La Font de la Guatlla\n",
      "Eixample\n",
      "El Camp d'en Grassot i Gràcia Nova\n",
      "L'Hospitalet de Llobregat\n",
      "Gràcia\n",
      "L'Antiga Esquerra de l'Eixample\n",
      "La Sagrada Familia\n",
      "Sant Pere-Santa Caterina i la Ribera\n",
      "Distrito de Sants-Montjuïc\n",
      "Sant Marti\n",
      "Les Corts\n",
      "un apartamento con servicios\n",
      "El Fort Pienc\n",
      "El Poble Sec\n",
      "Distrito de Horta-Guinardó\n",
      "El Putxet i el Farró\n",
      "La Teixonera\n",
      "Pubilla Cases\n",
      "Hostafrangs\n",
      "El Prat de Llobregat\n",
      "Distrito de San Andrés\n",
      "complejo residencial\n",
      "Sarrià-Sant Gervasi\n",
      "Sant Adrià de Besòs\n",
      "El Carmel\n"
     ]
    },
    {
     "data": {
      "text/plain": [
       "26"
      ]
     },
     "execution_count": 980,
     "metadata": {},
     "output_type": "execute_result"
    }
   ],
   "source": [
    "#General view of the activities\n",
    "unicos = airbnb[\"district\"].unique()\n",
    "for i in unicos:\n",
    "    print(i)\n",
    "len(unicos)"
   ]
  },
  {
   "cell_type": "code",
   "execution_count": 981,
   "id": "a393b668-728a-4c80-8a0b-c320c2b974d9",
   "metadata": {},
   "outputs": [],
   "source": [
    "# Dict per distric \n",
    "dict_district = {\n",
    "    r'[Cc]iutat|[Cc]aterina': 'Ciutat Vella',\n",
    "    r'[Ss]agrada|[Pp]ienc|[Ee]ixample': 'Eixample',\n",
    "    r'[Gg]uatlla|[Mm]ontju|[Po]ble Sec|[Ss]ants|[Hh]ostafran': 'Sants-Montjuic',\n",
    "    r'[Cc]orts': 'Les Corts',\n",
    "    r'[Gg]rassot|[Gg]ràcia': \"Gracia\",\n",
    "    r'[Hh]orta|[Tt]eixoner|[Cc]armel': \"Horta-Guinardo\",\n",
    "    r'[Aa]ndreu': \"Sant Andreu\",\n",
    "    r'[Mm]arti': \"Sant Marti\",\n",
    "    r\"[Pp]utxet|[Ss]arria\": \"Sarria-Sant Gervasi\"\n",
    " \n",
    "}"
   ]
  },
  {
   "cell_type": "code",
   "execution_count": 982,
   "id": "7823a535-9cb2-4234-b976-abcd10f6a697",
   "metadata": {},
   "outputs": [],
   "source": [
    "# Function to categorize activities\n",
    "def categorize_district(text, dict_district):\n",
    "    if isinstance(text, str):  # Check if the value is a text string\n",
    "        for pattern, category in dict_district.items():\n",
    "            if re.search(pattern, text):\n",
    "                return category\n",
    "    return \"Other\"  # If it does not match any category, \"Other\" is returned.\n",
    "\n",
    "# Clear invalid values in the \"activity\" column\n",
    "airbnb[\"district\"] =airbnb[\"district\"].fillna(\"empty\")  # Fill NaN values with an empty string\n",
    "airbnb[\"district\"] = airbnb[\"district\"].astype(str)  # Convert all values to text strings\n",
    "\n",
    "# Apply the function to categorize activities\n",
    "airbnb[\"district\"] = airbnb[\"district\"].apply(lambda x: categorize_district(x, dict_district))"
   ]
  },
  {
   "cell_type": "code",
   "execution_count": 983,
   "id": "f5988f32-5749-46a9-b15c-16087b8fc668",
   "metadata": {},
   "outputs": [
    {
     "name": "stdout",
     "output_type": "stream",
     "text": [
      "Ciutat Vella\n",
      "Sants-Montjuic\n",
      "Eixample\n",
      "Gracia\n",
      "Other\n",
      "Sant Marti\n",
      "Les Corts\n",
      "Horta-Guinardo\n",
      "Sarria-Sant Gervasi\n"
     ]
    },
    {
     "data": {
      "text/plain": [
       "9"
      ]
     },
     "execution_count": 983,
     "metadata": {},
     "output_type": "execute_result"
    }
   ],
   "source": [
    "unicos = airbnb[\"district\"].unique()\n",
    "for i in unicos:\n",
    "    print(i)\n",
    "len(unicos)"
   ]
  },
  {
   "cell_type": "code",
   "execution_count": 984,
   "id": "b1c9d442-0912-4b8e-9bf5-e9bd86f90da5",
   "metadata": {},
   "outputs": [
    {
     "name": "stdout",
     "output_type": "stream",
     "text": [
      "<class 'pandas.core.frame.DataFrame'>\n",
      "RangeIndex: 300 entries, 0 to 299\n",
      "Data columns (total 7 columns):\n",
      " #   Column       Non-Null Count  Dtype \n",
      "---  ------       --------------  ----- \n",
      " 0   type         300 non-null    object\n",
      " 1   name         300 non-null    object\n",
      " 2   district     300 non-null    object\n",
      " 3   nhab         300 non-null    object\n",
      " 4   services     300 non-null    object\n",
      " 5   rating       287 non-null    object\n",
      " 6   price_night  300 non-null    object\n",
      "dtypes: object(7)\n",
      "memory usage: 16.5+ KB\n"
     ]
    }
   ],
   "source": [
    "airbnb.info()"
   ]
  },
  {
   "cell_type": "code",
   "execution_count": 985,
   "id": "4b7adeb5-9cb6-40b7-8dfa-b386ed0d19af",
   "metadata": {},
   "outputs": [],
   "source": [
    "# Merge with distric df.\n",
    "airbnb = pd.merge(airbnb, district, on='district')"
   ]
  },
  {
   "cell_type": "code",
   "execution_count": 986,
   "id": "64f908cf-aa22-4c15-94b8-d0864f5f9bae",
   "metadata": {},
   "outputs": [
    {
     "name": "stdout",
     "output_type": "stream",
     "text": [
      "<class 'pandas.core.frame.DataFrame'>\n",
      "RangeIndex: 266 entries, 0 to 265\n",
      "Data columns (total 8 columns):\n",
      " #   Column       Non-Null Count  Dtype \n",
      "---  ------       --------------  ----- \n",
      " 0   type         266 non-null    object\n",
      " 1   name         266 non-null    object\n",
      " 2   district     266 non-null    object\n",
      " 3   nhab         266 non-null    object\n",
      " 4   services     266 non-null    object\n",
      " 5   rating       255 non-null    object\n",
      " 6   price_night  266 non-null    object\n",
      " 7   district_id  266 non-null    int8  \n",
      "dtypes: int8(1), object(7)\n",
      "memory usage: 14.9+ KB\n"
     ]
    }
   ],
   "source": [
    "airbnb.info()"
   ]
  },
  {
   "cell_type": "code",
   "execution_count": 987,
   "id": "44f926bc-1ab1-453d-84e3-ec4f9df9af17",
   "metadata": {},
   "outputs": [],
   "source": [
    "# Drop the colun district because we only need the id. \n",
    "airbnb = airbnb.drop([\"district\"], axis=1)"
   ]
  },
  {
   "cell_type": "code",
   "execution_count": 988,
   "id": "4fe67871-7015-4b7d-bf6b-fd30ad321eab",
   "metadata": {},
   "outputs": [
    {
     "name": "stdout",
     "output_type": "stream",
     "text": [
      "<class 'pandas.core.frame.DataFrame'>\n",
      "RangeIndex: 266 entries, 0 to 265\n",
      "Data columns (total 7 columns):\n",
      " #   Column       Non-Null Count  Dtype \n",
      "---  ------       --------------  ----- \n",
      " 0   type         266 non-null    object\n",
      " 1   name         266 non-null    object\n",
      " 2   nhab         266 non-null    object\n",
      " 3   services     266 non-null    object\n",
      " 4   rating       255 non-null    object\n",
      " 5   price_night  266 non-null    object\n",
      " 6   district_id  266 non-null    int8  \n",
      "dtypes: int8(1), object(6)\n",
      "memory usage: 12.9+ KB\n"
     ]
    }
   ],
   "source": [
    "airbnb.info()"
   ]
  },
  {
   "cell_type": "code",
   "execution_count": 989,
   "id": "82ecd2d0-3d33-422b-826a-1769acb5f5ea",
   "metadata": {},
   "outputs": [],
   "source": [
    "# We generated the uniques to created the id from them. \n",
    "airbnb_unique = airbnb[\"name\"].unique()"
   ]
  },
  {
   "cell_type": "code",
   "execution_count": 990,
   "id": "50a21248-6767-4762-a7e9-fd30825e37f8",
   "metadata": {},
   "outputs": [],
   "source": [
    "# Make a df with the resolt. \n",
    "airbnb_id = pd.DataFrame(airbnb_unique, columns=[\"name\"])\n",
    "\n",
    "# Generated the index. \n",
    "airbnb_id[\"airbnb_id\"] = pd.Series(airbnb_id[\"name\"], dtype=\"category\").cat.codes + 1"
   ]
  },
  {
   "cell_type": "code",
   "execution_count": 991,
   "id": "6286d413-25cc-40ec-9bbe-d1e967294bcb",
   "metadata": {},
   "outputs": [
    {
     "data": {
      "text/html": [
       "<div>\n",
       "<style scoped>\n",
       "    .dataframe tbody tr th:only-of-type {\n",
       "        vertical-align: middle;\n",
       "    }\n",
       "\n",
       "    .dataframe tbody tr th {\n",
       "        vertical-align: top;\n",
       "    }\n",
       "\n",
       "    .dataframe thead th {\n",
       "        text-align: right;\n",
       "    }\n",
       "</style>\n",
       "<table border=\"1\" class=\"dataframe\">\n",
       "  <thead>\n",
       "    <tr style=\"text-align: right;\">\n",
       "      <th></th>\n",
       "      <th>name</th>\n",
       "      <th>airbnb_id</th>\n",
       "    </tr>\n",
       "  </thead>\n",
       "  <tbody>\n",
       "    <tr>\n",
       "      <th>0</th>\n",
       "      <td>Habitacion centro Barcelona, Ciutat Vella room.</td>\n",
       "      <td>109</td>\n",
       "    </tr>\n",
       "    <tr>\n",
       "      <th>1</th>\n",
       "      <td>Room in the city center (Gothic,Rambla,Catedral)</td>\n",
       "      <td>209</td>\n",
       "    </tr>\n",
       "    <tr>\n",
       "      <th>2</th>\n",
       "      <td>Outstanding aparment &amp;Amazing location :)</td>\n",
       "      <td>183</td>\n",
       "    </tr>\n",
       "    <tr>\n",
       "      <th>3</th>\n",
       "      <td>Habitación Individual con baño compartido</td>\n",
       "      <td>120</td>\n",
       "    </tr>\n",
       "    <tr>\n",
       "      <th>4</th>\n",
       "      <td>Mundi</td>\n",
       "      <td>173</td>\n",
       "    </tr>\n",
       "    <tr>\n",
       "      <th>...</th>\n",
       "      <td>...</td>\n",
       "      <td>...</td>\n",
       "    </tr>\n",
       "    <tr>\n",
       "      <th>259</th>\n",
       "      <td>El Faro, habitacion privada 3</td>\n",
       "      <td>93</td>\n",
       "    </tr>\n",
       "    <tr>\n",
       "      <th>260</th>\n",
       "      <td>2 bed in single room Near Sagrada Familia</td>\n",
       "      <td>3</td>\n",
       "    </tr>\n",
       "    <tr>\n",
       "      <th>261</th>\n",
       "      <td>Sunny room for 2 persons near Park Guell Barce...</td>\n",
       "      <td>236</td>\n",
       "    </tr>\n",
       "    <tr>\n",
       "      <th>262</th>\n",
       "      <td>Luxury loft new and fully furnished, top ameni...</td>\n",
       "      <td>168</td>\n",
       "    </tr>\n",
       "    <tr>\n",
       "      <th>263</th>\n",
       "      <td>SUITE 30m2. AirCond. Heating. WIFI. LIFT. PARK...</td>\n",
       "      <td>219</td>\n",
       "    </tr>\n",
       "  </tbody>\n",
       "</table>\n",
       "<p>264 rows × 2 columns</p>\n",
       "</div>"
      ],
      "text/plain": [
       "                                                  name  airbnb_id\n",
       "0      Habitacion centro Barcelona, Ciutat Vella room.        109\n",
       "1     Room in the city center (Gothic,Rambla,Catedral)        209\n",
       "2            Outstanding aparment &Amazing location :)        183\n",
       "3            Habitación Individual con baño compartido        120\n",
       "4                                                Mundi        173\n",
       "..                                                 ...        ...\n",
       "259                      El Faro, habitacion privada 3         93\n",
       "260          2 bed in single room Near Sagrada Familia          3\n",
       "261  Sunny room for 2 persons near Park Guell Barce...        236\n",
       "262  Luxury loft new and fully furnished, top ameni...        168\n",
       "263  SUITE 30m2. AirCond. Heating. WIFI. LIFT. PARK...        219\n",
       "\n",
       "[264 rows x 2 columns]"
      ]
     },
     "execution_count": 991,
     "metadata": {},
     "output_type": "execute_result"
    }
   ],
   "source": [
    "airbnb_id"
   ]
  },
  {
   "cell_type": "code",
   "execution_count": 992,
   "id": "4640e9a8-ab31-45fd-9096-8efe6cf4f9e0",
   "metadata": {},
   "outputs": [],
   "source": [
    "# Merge the result with the airbnb df.\n",
    "airbnb = pd.merge(airbnb, airbnb_id, on='name')"
   ]
  },
  {
   "cell_type": "code",
   "execution_count": 993,
   "id": "566451ae-8671-43b8-8eef-34139cabc466",
   "metadata": {},
   "outputs": [],
   "source": [
    "index_drop = [58,82,121]\n",
    "airbnb = airbnb.drop(index_drop)"
   ]
  },
  {
   "cell_type": "code",
   "execution_count": 994,
   "id": "bc9e5cf5-7a51-4da6-a09a-bba7c195b00b",
   "metadata": {},
   "outputs": [],
   "source": [
    "airbnb['price_night'] = airbnb['price_night'].str.replace('€', '')"
   ]
  },
  {
   "cell_type": "code",
   "execution_count": 995,
   "id": "420b3f2a-8472-4e5a-8e47-dd689cf78025",
   "metadata": {},
   "outputs": [
    {
     "data": {
      "text/html": [
       "<div>\n",
       "<style scoped>\n",
       "    .dataframe tbody tr th:only-of-type {\n",
       "        vertical-align: middle;\n",
       "    }\n",
       "\n",
       "    .dataframe tbody tr th {\n",
       "        vertical-align: top;\n",
       "    }\n",
       "\n",
       "    .dataframe thead th {\n",
       "        text-align: right;\n",
       "    }\n",
       "</style>\n",
       "<table border=\"1\" class=\"dataframe\">\n",
       "  <thead>\n",
       "    <tr style=\"text-align: right;\">\n",
       "      <th></th>\n",
       "      <th>type</th>\n",
       "      <th>name</th>\n",
       "      <th>nhab</th>\n",
       "      <th>services</th>\n",
       "      <th>rating</th>\n",
       "      <th>price_night</th>\n",
       "      <th>district_id</th>\n",
       "      <th>airbnb_id</th>\n",
       "    </tr>\n",
       "  </thead>\n",
       "  <tbody>\n",
       "    <tr>\n",
       "      <th>0</th>\n",
       "      <td>Habitación privada</td>\n",
       "      <td>Habitacion centro Barcelona, Ciutat Vella room.</td>\n",
       "      <td>2 huéspedes · 1 dormitorio · 1 cama · 1 baño c...</td>\n",
       "      <td>Wifi · Cocina</td>\n",
       "      <td>4,60</td>\n",
       "      <td>24</td>\n",
       "      <td>1</td>\n",
       "      <td>109</td>\n",
       "    </tr>\n",
       "    <tr>\n",
       "      <th>1</th>\n",
       "      <td>Habitación privada</td>\n",
       "      <td>Room in the city center (Gothic,Rambla,Catedral)</td>\n",
       "      <td>1 huésped · 1 dormitorio · 1 cama · 1 baño com...</td>\n",
       "      <td>Wifi · Cocina · Lavadora</td>\n",
       "      <td>4,48</td>\n",
       "      <td>25</td>\n",
       "      <td>1</td>\n",
       "      <td>209</td>\n",
       "    </tr>\n",
       "    <tr>\n",
       "      <th>2</th>\n",
       "      <td>Alojamiento entero: piso</td>\n",
       "      <td>Outstanding aparment &amp;Amazing location :)</td>\n",
       "      <td>2 huéspedes · 1 dormitorio · 1 cama · 1 baño</td>\n",
       "      <td>Wifi · Cocina · Aire acondicionado</td>\n",
       "      <td>4,77</td>\n",
       "      <td>85</td>\n",
       "      <td>1</td>\n",
       "      <td>183</td>\n",
       "    </tr>\n",
       "    <tr>\n",
       "      <th>3</th>\n",
       "      <td>Habitación de hostal</td>\n",
       "      <td>Habitación Individual con baño compartido</td>\n",
       "      <td>1 huésped · 1 dormitorio · 1 cama · 1,5 baños ...</td>\n",
       "      <td>Wifi · Aire acondicionado</td>\n",
       "      <td>4,73</td>\n",
       "      <td>44</td>\n",
       "      <td>1</td>\n",
       "      <td>120</td>\n",
       "    </tr>\n",
       "    <tr>\n",
       "      <th>4</th>\n",
       "      <td>Habitación privada</td>\n",
       "      <td>Mundi</td>\n",
       "      <td>1 huésped · 1 dormitorio · 1 cama · 1,5 baños ...</td>\n",
       "      <td>Wifi · Cocina · Lavadora</td>\n",
       "      <td>4,56</td>\n",
       "      <td>32</td>\n",
       "      <td>1</td>\n",
       "      <td>173</td>\n",
       "    </tr>\n",
       "  </tbody>\n",
       "</table>\n",
       "</div>"
      ],
      "text/plain": [
       "                       type                                              name  \\\n",
       "0        Habitación privada   Habitacion centro Barcelona, Ciutat Vella room.   \n",
       "1        Habitación privada  Room in the city center (Gothic,Rambla,Catedral)   \n",
       "2  Alojamiento entero: piso         Outstanding aparment &Amazing location :)   \n",
       "3      Habitación de hostal         Habitación Individual con baño compartido   \n",
       "4        Habitación privada                                             Mundi   \n",
       "\n",
       "                                                nhab  \\\n",
       "0  2 huéspedes · 1 dormitorio · 1 cama · 1 baño c...   \n",
       "1  1 huésped · 1 dormitorio · 1 cama · 1 baño com...   \n",
       "2       2 huéspedes · 1 dormitorio · 1 cama · 1 baño   \n",
       "3  1 huésped · 1 dormitorio · 1 cama · 1,5 baños ...   \n",
       "4  1 huésped · 1 dormitorio · 1 cama · 1,5 baños ...   \n",
       "\n",
       "                             services rating price_night  district_id  \\\n",
       "0                       Wifi · Cocina   4,60          24            1   \n",
       "1            Wifi · Cocina · Lavadora   4,48          25            1   \n",
       "2  Wifi · Cocina · Aire acondicionado   4,77          85            1   \n",
       "3           Wifi · Aire acondicionado   4,73          44            1   \n",
       "4            Wifi · Cocina · Lavadora   4,56          32            1   \n",
       "\n",
       "   airbnb_id  \n",
       "0        109  \n",
       "1        209  \n",
       "2        183  \n",
       "3        120  \n",
       "4        173  "
      ]
     },
     "execution_count": 995,
     "metadata": {},
     "output_type": "execute_result"
    }
   ],
   "source": [
    "airbnb.head()"
   ]
  },
  {
   "cell_type": "code",
   "execution_count": 996,
   "id": "1c0de97a-2286-40bb-ab6b-0acbe4147fb0",
   "metadata": {},
   "outputs": [],
   "source": [
    "airbnb['type'] = airbnb['type'].astype(str)\n",
    "airbnb['name'] = airbnb['name'].astype(str)\n",
    "airbnb['nhab'] = airbnb['nhab'].astype(str)\n",
    "airbnb['services'] = airbnb['services'].astype(str)\n",
    "airbnb['rating'] = airbnb['rating'].str.replace(',', '.').astype(float)\n",
    "airbnb['price_night'] = airbnb['price_night'].astype(int)"
   ]
  },
  {
   "cell_type": "code",
   "execution_count": 997,
   "id": "41d39a4a-4ded-4dc2-b5da-b79a5758908b",
   "metadata": {},
   "outputs": [
    {
     "data": {
      "text/html": [
       "<div>\n",
       "<style scoped>\n",
       "    .dataframe tbody tr th:only-of-type {\n",
       "        vertical-align: middle;\n",
       "    }\n",
       "\n",
       "    .dataframe tbody tr th {\n",
       "        vertical-align: top;\n",
       "    }\n",
       "\n",
       "    .dataframe thead th {\n",
       "        text-align: right;\n",
       "    }\n",
       "</style>\n",
       "<table border=\"1\" class=\"dataframe\">\n",
       "  <thead>\n",
       "    <tr style=\"text-align: right;\">\n",
       "      <th></th>\n",
       "      <th>type</th>\n",
       "      <th>name</th>\n",
       "      <th>nhab</th>\n",
       "      <th>services</th>\n",
       "      <th>rating</th>\n",
       "      <th>price_night</th>\n",
       "      <th>district_id</th>\n",
       "      <th>airbnb_id</th>\n",
       "    </tr>\n",
       "  </thead>\n",
       "  <tbody>\n",
       "    <tr>\n",
       "      <th>0</th>\n",
       "      <td>Habitación privada</td>\n",
       "      <td>Habitacion centro Barcelona, Ciutat Vella room.</td>\n",
       "      <td>2 huéspedes · 1 dormitorio · 1 cama · 1 baño c...</td>\n",
       "      <td>Wifi · Cocina</td>\n",
       "      <td>4.60</td>\n",
       "      <td>24</td>\n",
       "      <td>1</td>\n",
       "      <td>109</td>\n",
       "    </tr>\n",
       "    <tr>\n",
       "      <th>1</th>\n",
       "      <td>Habitación privada</td>\n",
       "      <td>Room in the city center (Gothic,Rambla,Catedral)</td>\n",
       "      <td>1 huésped · 1 dormitorio · 1 cama · 1 baño com...</td>\n",
       "      <td>Wifi · Cocina · Lavadora</td>\n",
       "      <td>4.48</td>\n",
       "      <td>25</td>\n",
       "      <td>1</td>\n",
       "      <td>209</td>\n",
       "    </tr>\n",
       "    <tr>\n",
       "      <th>2</th>\n",
       "      <td>Alojamiento entero: piso</td>\n",
       "      <td>Outstanding aparment &amp;Amazing location :)</td>\n",
       "      <td>2 huéspedes · 1 dormitorio · 1 cama · 1 baño</td>\n",
       "      <td>Wifi · Cocina · Aire acondicionado</td>\n",
       "      <td>4.77</td>\n",
       "      <td>85</td>\n",
       "      <td>1</td>\n",
       "      <td>183</td>\n",
       "    </tr>\n",
       "    <tr>\n",
       "      <th>3</th>\n",
       "      <td>Habitación de hostal</td>\n",
       "      <td>Habitación Individual con baño compartido</td>\n",
       "      <td>1 huésped · 1 dormitorio · 1 cama · 1,5 baños ...</td>\n",
       "      <td>Wifi · Aire acondicionado</td>\n",
       "      <td>4.73</td>\n",
       "      <td>44</td>\n",
       "      <td>1</td>\n",
       "      <td>120</td>\n",
       "    </tr>\n",
       "    <tr>\n",
       "      <th>4</th>\n",
       "      <td>Habitación privada</td>\n",
       "      <td>Mundi</td>\n",
       "      <td>1 huésped · 1 dormitorio · 1 cama · 1,5 baños ...</td>\n",
       "      <td>Wifi · Cocina · Lavadora</td>\n",
       "      <td>4.56</td>\n",
       "      <td>32</td>\n",
       "      <td>1</td>\n",
       "      <td>173</td>\n",
       "    </tr>\n",
       "  </tbody>\n",
       "</table>\n",
       "</div>"
      ],
      "text/plain": [
       "                       type                                              name  \\\n",
       "0        Habitación privada   Habitacion centro Barcelona, Ciutat Vella room.   \n",
       "1        Habitación privada  Room in the city center (Gothic,Rambla,Catedral)   \n",
       "2  Alojamiento entero: piso         Outstanding aparment &Amazing location :)   \n",
       "3      Habitación de hostal         Habitación Individual con baño compartido   \n",
       "4        Habitación privada                                             Mundi   \n",
       "\n",
       "                                                nhab  \\\n",
       "0  2 huéspedes · 1 dormitorio · 1 cama · 1 baño c...   \n",
       "1  1 huésped · 1 dormitorio · 1 cama · 1 baño com...   \n",
       "2       2 huéspedes · 1 dormitorio · 1 cama · 1 baño   \n",
       "3  1 huésped · 1 dormitorio · 1 cama · 1,5 baños ...   \n",
       "4  1 huésped · 1 dormitorio · 1 cama · 1,5 baños ...   \n",
       "\n",
       "                             services  rating  price_night  district_id  \\\n",
       "0                       Wifi · Cocina    4.60           24            1   \n",
       "1            Wifi · Cocina · Lavadora    4.48           25            1   \n",
       "2  Wifi · Cocina · Aire acondicionado    4.77           85            1   \n",
       "3           Wifi · Aire acondicionado    4.73           44            1   \n",
       "4            Wifi · Cocina · Lavadora    4.56           32            1   \n",
       "\n",
       "   airbnb_id  \n",
       "0        109  \n",
       "1        209  \n",
       "2        183  \n",
       "3        120  \n",
       "4        173  "
      ]
     },
     "execution_count": 997,
     "metadata": {},
     "output_type": "execute_result"
    }
   ],
   "source": [
    "airbnb.head(5)"
   ]
  },
  {
   "cell_type": "code",
   "execution_count": 998,
   "id": "02e344ec-ed93-42ef-9dba-b6602ebb97d6",
   "metadata": {},
   "outputs": [],
   "source": [
    "# I couldn't import en mysql because the comas so we intall this library to drop them."
   ]
  },
  {
   "cell_type": "code",
   "execution_count": 999,
   "id": "92111769-5079-4b41-af60-d97ddbdf112c",
   "metadata": {},
   "outputs": [
    {
     "name": "stdout",
     "output_type": "stream",
     "text": [
      "Requirement already satisfied: unidecode in /opt/anaconda3/lib/python3.11/site-packages (1.2.0)\n",
      "Note: you may need to restart the kernel to use updated packages.\n"
     ]
    }
   ],
   "source": [
    "pip install unidecode"
   ]
  },
  {
   "cell_type": "code",
   "execution_count": 1000,
   "id": "4f748dce-21d2-4125-80a0-35930941b654",
   "metadata": {},
   "outputs": [],
   "source": [
    "from unidecode import unidecode"
   ]
  },
  {
   "cell_type": "code",
   "execution_count": 1001,
   "id": "aa2f27b4-b49e-4ebc-b891-ac5113b9a91a",
   "metadata": {},
   "outputs": [],
   "source": [
    "airbnb['name'] = airbnb['name'].apply(lambda x: unidecode(str(x)))\n",
    "airbnb['type'] = airbnb['type'].apply(lambda x: unidecode(str(x)))\n",
    "airbnb['nhab'] = airbnb['nhab'].apply(lambda x: unidecode(str(x)))\n",
    "airbnb['services'] = airbnb['services'].apply(lambda x: unidecode(str(x)))"
   ]
  },
  {
   "cell_type": "code",
   "execution_count": 1002,
   "id": "63a9fe5c-10b3-4d7c-83e9-24372bedb1c7",
   "metadata": {},
   "outputs": [],
   "source": [
    "airbnb.to_csv('airbnb.csv', index=True)"
   ]
  },
  {
   "cell_type": "code",
   "execution_count": 1003,
   "id": "372b5975-735b-4cd7-a12f-39a65946924f",
   "metadata": {},
   "outputs": [],
   "source": [
    "# Save the airbnb df. \n",
    "#airbnb.to_csv('airbnb.csv', index=True)"
   ]
  },
  {
   "cell_type": "markdown",
   "id": "bed013eb-4529-48d3-9dac-84426068c22f",
   "metadata": {
    "jp-MarkdownHeadingCollapsed": true
   },
   "source": [
    "## POPULATION DATASET"
   ]
  },
  {
   "cell_type": "code",
   "execution_count": 855,
   "id": "3a936f64-6702-483c-b978-b6232a262eae",
   "metadata": {},
   "outputs": [],
   "source": [
    "# Import population DataFrame.\n",
    "population = pd.read_csv(\"/Users/roraimachavez/Downloads/7.IRONHACK/Mini projects/sql/csv/bcn_dataset2015_2019.csv\")"
   ]
  },
  {
   "cell_type": "code",
   "execution_count": 856,
   "id": "d668e89d-c81e-44d3-b3e5-340f88cf3f38",
   "metadata": {},
   "outputs": [
    {
     "data": {
      "text/plain": [
       "(365, 38)"
      ]
     },
     "execution_count": 856,
     "metadata": {},
     "output_type": "execute_result"
    }
   ],
   "source": [
    "population.shape"
   ]
  },
  {
   "cell_type": "code",
   "execution_count": 857,
   "id": "daef9154-e035-4349-a675-dadf7fa4fd29",
   "metadata": {},
   "outputs": [],
   "source": [
    "# We created a variable with the columns we need.\n",
    "columnas_population = ['Unnamed: 0', 'year','neighbourhood', 'population','% spaniards','% strangers']\n",
    "\n",
    "# Created the df from them. \n",
    "popu = population[columnas_population].copy()"
   ]
  },
  {
   "cell_type": "code",
   "execution_count": 858,
   "id": "65ad79e2-a5dc-4026-91d7-4517ba4e1b26",
   "metadata": {},
   "outputs": [],
   "source": [
    "# Filter.\n",
    "popu = popu.loc[(popu['year']== 2019)] "
   ]
  },
  {
   "cell_type": "code",
   "execution_count": 859,
   "id": "dba71d41-0404-4bb9-9ba5-4b4eedbbaa14",
   "metadata": {},
   "outputs": [],
   "source": [
    "# Change to lower case. \n",
    "popu.columns = popu.columns.str.lower()"
   ]
  },
  {
   "cell_type": "code",
   "execution_count": 860,
   "id": "a921c8e9-b788-407d-8bd0-d08253824201",
   "metadata": {},
   "outputs": [],
   "source": [
    "# Rename column. \n",
    "popu.rename(columns = {'unnamed: 0':'population_id'}, inplace = True) "
   ]
  },
  {
   "cell_type": "code",
   "execution_count": 861,
   "id": "e1ba2392-ff25-486d-9aed-2e4e35f9b7d4",
   "metadata": {},
   "outputs": [
    {
     "data": {
      "text/html": [
       "<div>\n",
       "<style scoped>\n",
       "    .dataframe tbody tr th:only-of-type {\n",
       "        vertical-align: middle;\n",
       "    }\n",
       "\n",
       "    .dataframe tbody tr th {\n",
       "        vertical-align: top;\n",
       "    }\n",
       "\n",
       "    .dataframe thead th {\n",
       "        text-align: right;\n",
       "    }\n",
       "</style>\n",
       "<table border=\"1\" class=\"dataframe\">\n",
       "  <thead>\n",
       "    <tr style=\"text-align: right;\">\n",
       "      <th></th>\n",
       "      <th>population_id</th>\n",
       "      <th>year</th>\n",
       "      <th>neighbourhood</th>\n",
       "      <th>population</th>\n",
       "      <th>% spaniards</th>\n",
       "      <th>% strangers</th>\n",
       "    </tr>\n",
       "  </thead>\n",
       "  <tbody>\n",
       "    <tr>\n",
       "      <th>292</th>\n",
       "      <td>292</td>\n",
       "      <td>2019</td>\n",
       "      <td>Baró de Viver</td>\n",
       "      <td>2625.0</td>\n",
       "      <td>85.1</td>\n",
       "      <td>14.9</td>\n",
       "    </tr>\n",
       "    <tr>\n",
       "      <th>293</th>\n",
       "      <td>293</td>\n",
       "      <td>2019</td>\n",
       "      <td>Can Baró</td>\n",
       "      <td>9331.0</td>\n",
       "      <td>82.1</td>\n",
       "      <td>17.9</td>\n",
       "    </tr>\n",
       "    <tr>\n",
       "      <th>294</th>\n",
       "      <td>294</td>\n",
       "      <td>2019</td>\n",
       "      <td>Can Peguera</td>\n",
       "      <td>2234.0</td>\n",
       "      <td>88.4</td>\n",
       "      <td>11.6</td>\n",
       "    </tr>\n",
       "    <tr>\n",
       "      <th>295</th>\n",
       "      <td>295</td>\n",
       "      <td>2019</td>\n",
       "      <td>Canyelles</td>\n",
       "      <td>6869.0</td>\n",
       "      <td>93.3</td>\n",
       "      <td>6.7</td>\n",
       "    </tr>\n",
       "    <tr>\n",
       "      <th>296</th>\n",
       "      <td>296</td>\n",
       "      <td>2019</td>\n",
       "      <td>Ciutat Meridiana</td>\n",
       "      <td>11091.0</td>\n",
       "      <td>67.2</td>\n",
       "      <td>32.8</td>\n",
       "    </tr>\n",
       "  </tbody>\n",
       "</table>\n",
       "</div>"
      ],
      "text/plain": [
       "     population_id  year     neighbourhood  population  % spaniards  \\\n",
       "292            292  2019     Baró de Viver      2625.0         85.1   \n",
       "293            293  2019          Can Baró      9331.0         82.1   \n",
       "294            294  2019       Can Peguera      2234.0         88.4   \n",
       "295            295  2019         Canyelles      6869.0         93.3   \n",
       "296            296  2019  Ciutat Meridiana     11091.0         67.2   \n",
       "\n",
       "     % strangers  \n",
       "292         14.9  \n",
       "293         17.9  \n",
       "294         11.6  \n",
       "295          6.7  \n",
       "296         32.8  "
      ]
     },
     "execution_count": 861,
     "metadata": {},
     "output_type": "execute_result"
    }
   ],
   "source": [
    "popu.head()"
   ]
  },
  {
   "cell_type": "code",
   "execution_count": 862,
   "id": "80388785-4535-4b60-9055-86432725f455",
   "metadata": {},
   "outputs": [],
   "source": [
    "# We created a df with district and neighbourhood df because we need the information of both of them. \n",
    "zone = pd.merge(district, neighbourhood, on='district_id')"
   ]
  },
  {
   "cell_type": "code",
   "execution_count": 863,
   "id": "0da06efa-84d7-423b-96f4-e34b102576cf",
   "metadata": {},
   "outputs": [
    {
     "data": {
      "text/plain": [
       "(68, 4)"
      ]
     },
     "execution_count": 863,
     "metadata": {},
     "output_type": "execute_result"
    }
   ],
   "source": [
    "zone.shape"
   ]
  },
  {
   "cell_type": "code",
   "execution_count": 864,
   "id": "43966ad8-8d75-4436-bd51-bd354dec0629",
   "metadata": {},
   "outputs": [],
   "source": [
    "# We delete duplicates. \n",
    "zone.drop_duplicates(inplace = True)"
   ]
  },
  {
   "cell_type": "code",
   "execution_count": 865,
   "id": "ebcfd795-4429-47f9-b900-2885d0013b8d",
   "metadata": {},
   "outputs": [
    {
     "data": {
      "text/plain": [
       "(68, 4)"
      ]
     },
     "execution_count": 865,
     "metadata": {},
     "output_type": "execute_result"
    }
   ],
   "source": [
    "zone.shape"
   ]
  },
  {
   "cell_type": "code",
   "execution_count": 866,
   "id": "00e78716-c2c7-4129-8d4d-abd17cb8dd26",
   "metadata": {},
   "outputs": [
    {
     "data": {
      "text/html": [
       "<div>\n",
       "<style scoped>\n",
       "    .dataframe tbody tr th:only-of-type {\n",
       "        vertical-align: middle;\n",
       "    }\n",
       "\n",
       "    .dataframe tbody tr th {\n",
       "        vertical-align: top;\n",
       "    }\n",
       "\n",
       "    .dataframe thead th {\n",
       "        text-align: right;\n",
       "    }\n",
       "</style>\n",
       "<table border=\"1\" class=\"dataframe\">\n",
       "  <thead>\n",
       "    <tr style=\"text-align: right;\">\n",
       "      <th></th>\n",
       "      <th>district</th>\n",
       "      <th>district_id</th>\n",
       "      <th>neighbourhood</th>\n",
       "      <th>neighbourhood_id</th>\n",
       "    </tr>\n",
       "  </thead>\n",
       "  <tbody>\n",
       "    <tr>\n",
       "      <th>0</th>\n",
       "      <td>Ciutat Vella</td>\n",
       "      <td>1</td>\n",
       "      <td>el Raval</td>\n",
       "      <td>43</td>\n",
       "    </tr>\n",
       "    <tr>\n",
       "      <th>1</th>\n",
       "      <td>Ciutat Vella</td>\n",
       "      <td>1</td>\n",
       "      <td>Gothic Quarter</td>\n",
       "      <td>6</td>\n",
       "    </tr>\n",
       "    <tr>\n",
       "      <th>2</th>\n",
       "      <td>Ciutat Vella</td>\n",
       "      <td>1</td>\n",
       "      <td>la Barceloneta</td>\n",
       "      <td>46</td>\n",
       "    </tr>\n",
       "    <tr>\n",
       "      <th>3</th>\n",
       "      <td>Ciutat Vella</td>\n",
       "      <td>1</td>\n",
       "      <td>Sant Pere, Santa Caterina i la Ribera</td>\n",
       "      <td>21</td>\n",
       "    </tr>\n",
       "    <tr>\n",
       "      <th>4</th>\n",
       "      <td>Eixample</td>\n",
       "      <td>2</td>\n",
       "      <td>Fort Pienc</td>\n",
       "      <td>5</td>\n",
       "    </tr>\n",
       "  </tbody>\n",
       "</table>\n",
       "</div>"
      ],
      "text/plain": [
       "       district  district_id                          neighbourhood  \\\n",
       "0  Ciutat Vella            1                               el Raval   \n",
       "1  Ciutat Vella            1                         Gothic Quarter   \n",
       "2  Ciutat Vella            1                         la Barceloneta   \n",
       "3  Ciutat Vella            1  Sant Pere, Santa Caterina i la Ribera   \n",
       "4      Eixample            2                             Fort Pienc   \n",
       "\n",
       "   neighbourhood_id  \n",
       "0                43  \n",
       "1                 6  \n",
       "2                46  \n",
       "3                21  \n",
       "4                 5  "
      ]
     },
     "execution_count": 866,
     "metadata": {},
     "output_type": "execute_result"
    }
   ],
   "source": [
    "zone.head()"
   ]
  },
  {
   "cell_type": "code",
   "execution_count": 867,
   "id": "b1d17daf-2d96-42dd-a065-f87438c4fcda",
   "metadata": {},
   "outputs": [],
   "source": [
    "# We merge with the neighbourhood df because we need the id. \n",
    "popu = pd.merge(zone, popu, on='neighbourhood')"
   ]
  },
  {
   "cell_type": "code",
   "execution_count": 868,
   "id": "6544cb69-8ab5-4ab5-8478-03f6663188e8",
   "metadata": {},
   "outputs": [
    {
     "data": {
      "text/html": [
       "<div>\n",
       "<style scoped>\n",
       "    .dataframe tbody tr th:only-of-type {\n",
       "        vertical-align: middle;\n",
       "    }\n",
       "\n",
       "    .dataframe tbody tr th {\n",
       "        vertical-align: top;\n",
       "    }\n",
       "\n",
       "    .dataframe thead th {\n",
       "        text-align: right;\n",
       "    }\n",
       "</style>\n",
       "<table border=\"1\" class=\"dataframe\">\n",
       "  <thead>\n",
       "    <tr style=\"text-align: right;\">\n",
       "      <th></th>\n",
       "      <th>district</th>\n",
       "      <th>district_id</th>\n",
       "      <th>neighbourhood</th>\n",
       "      <th>neighbourhood_id</th>\n",
       "      <th>population_id</th>\n",
       "      <th>year</th>\n",
       "      <th>population</th>\n",
       "      <th>% spaniards</th>\n",
       "      <th>% strangers</th>\n",
       "    </tr>\n",
       "  </thead>\n",
       "  <tbody>\n",
       "    <tr>\n",
       "      <th>0</th>\n",
       "      <td>Ciutat Vella</td>\n",
       "      <td>1</td>\n",
       "      <td>el Raval</td>\n",
       "      <td>43</td>\n",
       "      <td>337</td>\n",
       "      <td>2019</td>\n",
       "      <td>48263.0</td>\n",
       "      <td>47.1</td>\n",
       "      <td>52.9</td>\n",
       "    </tr>\n",
       "    <tr>\n",
       "      <th>1</th>\n",
       "      <td>Ciutat Vella</td>\n",
       "      <td>1</td>\n",
       "      <td>la Barceloneta</td>\n",
       "      <td>46</td>\n",
       "      <td>340</td>\n",
       "      <td>2019</td>\n",
       "      <td>15112.0</td>\n",
       "      <td>59.5</td>\n",
       "      <td>40.5</td>\n",
       "    </tr>\n",
       "    <tr>\n",
       "      <th>2</th>\n",
       "      <td>Eixample</td>\n",
       "      <td>2</td>\n",
       "      <td>la Dreta de l'Eixample</td>\n",
       "      <td>48</td>\n",
       "      <td>343</td>\n",
       "      <td>2019</td>\n",
       "      <td>44325.0</td>\n",
       "      <td>74.6</td>\n",
       "      <td>25.4</td>\n",
       "    </tr>\n",
       "    <tr>\n",
       "      <th>3</th>\n",
       "      <td>Eixample</td>\n",
       "      <td>2</td>\n",
       "      <td>l'Antiga Esquerra de l'Eixample</td>\n",
       "      <td>45</td>\n",
       "      <td>339</td>\n",
       "      <td>2019</td>\n",
       "      <td>43228.0</td>\n",
       "      <td>74.4</td>\n",
       "      <td>25.6</td>\n",
       "    </tr>\n",
       "    <tr>\n",
       "      <th>4</th>\n",
       "      <td>Eixample</td>\n",
       "      <td>2</td>\n",
       "      <td>la Nova Esquerra de l'Eixample</td>\n",
       "      <td>55</td>\n",
       "      <td>350</td>\n",
       "      <td>2019</td>\n",
       "      <td>58621.0</td>\n",
       "      <td>78.9</td>\n",
       "      <td>21.1</td>\n",
       "    </tr>\n",
       "  </tbody>\n",
       "</table>\n",
       "</div>"
      ],
      "text/plain": [
       "       district  district_id                    neighbourhood  \\\n",
       "0  Ciutat Vella            1                         el Raval   \n",
       "1  Ciutat Vella            1                   la Barceloneta   \n",
       "2      Eixample            2           la Dreta de l'Eixample   \n",
       "3      Eixample            2  l'Antiga Esquerra de l'Eixample   \n",
       "4      Eixample            2   la Nova Esquerra de l'Eixample   \n",
       "\n",
       "   neighbourhood_id  population_id  year  population  % spaniards  % strangers  \n",
       "0                43            337  2019     48263.0         47.1         52.9  \n",
       "1                46            340  2019     15112.0         59.5         40.5  \n",
       "2                48            343  2019     44325.0         74.6         25.4  \n",
       "3                45            339  2019     43228.0         74.4         25.6  \n",
       "4                55            350  2019     58621.0         78.9         21.1  "
      ]
     },
     "execution_count": 868,
     "metadata": {},
     "output_type": "execute_result"
    }
   ],
   "source": [
    "popu.head()"
   ]
  },
  {
   "cell_type": "code",
   "execution_count": 869,
   "id": "0ded4c6d-0d13-46fe-8ff7-bcc9cd71e7c2",
   "metadata": {},
   "outputs": [],
   "source": [
    "# Here we make 2 new columns with the respective columns without % and make the result round to 1 decimal. \n",
    "popu['num_spaniards'] = round(popu['population'] * (popu['% spaniards'] / 100),1)\n",
    "popu['num_strangers'] = round(popu['population'] * (popu['% strangers'] / 100),1)\n",
    "\n",
    "\n",
    "# Drop the columns with %.\n",
    "popu.drop(columns=['% spaniards', '% strangers'], inplace=True)\n",
    "\n",
    "# And rename the new ones. \n",
    "popu.rename(columns={'num_spaniards': 'spaniards', 'num_strangers': 'strangers'}, inplace=True)\n"
   ]
  },
  {
   "cell_type": "code",
   "execution_count": 870,
   "id": "4c71b998-03f7-475b-93cb-bf4c284badcf",
   "metadata": {},
   "outputs": [
    {
     "data": {
      "text/html": [
       "<div>\n",
       "<style scoped>\n",
       "    .dataframe tbody tr th:only-of-type {\n",
       "        vertical-align: middle;\n",
       "    }\n",
       "\n",
       "    .dataframe tbody tr th {\n",
       "        vertical-align: top;\n",
       "    }\n",
       "\n",
       "    .dataframe thead th {\n",
       "        text-align: right;\n",
       "    }\n",
       "</style>\n",
       "<table border=\"1\" class=\"dataframe\">\n",
       "  <thead>\n",
       "    <tr style=\"text-align: right;\">\n",
       "      <th></th>\n",
       "      <th>district</th>\n",
       "      <th>district_id</th>\n",
       "      <th>neighbourhood</th>\n",
       "      <th>neighbourhood_id</th>\n",
       "      <th>population_id</th>\n",
       "      <th>year</th>\n",
       "      <th>population</th>\n",
       "      <th>spaniards</th>\n",
       "      <th>strangers</th>\n",
       "    </tr>\n",
       "  </thead>\n",
       "  <tbody>\n",
       "    <tr>\n",
       "      <th>0</th>\n",
       "      <td>Ciutat Vella</td>\n",
       "      <td>1</td>\n",
       "      <td>el Raval</td>\n",
       "      <td>43</td>\n",
       "      <td>337</td>\n",
       "      <td>2019</td>\n",
       "      <td>48263.0</td>\n",
       "      <td>22731.9</td>\n",
       "      <td>25531.1</td>\n",
       "    </tr>\n",
       "    <tr>\n",
       "      <th>1</th>\n",
       "      <td>Ciutat Vella</td>\n",
       "      <td>1</td>\n",
       "      <td>la Barceloneta</td>\n",
       "      <td>46</td>\n",
       "      <td>340</td>\n",
       "      <td>2019</td>\n",
       "      <td>15112.0</td>\n",
       "      <td>8991.6</td>\n",
       "      <td>6120.4</td>\n",
       "    </tr>\n",
       "    <tr>\n",
       "      <th>2</th>\n",
       "      <td>Eixample</td>\n",
       "      <td>2</td>\n",
       "      <td>la Dreta de l'Eixample</td>\n",
       "      <td>48</td>\n",
       "      <td>343</td>\n",
       "      <td>2019</td>\n",
       "      <td>44325.0</td>\n",
       "      <td>33066.4</td>\n",
       "      <td>11258.6</td>\n",
       "    </tr>\n",
       "    <tr>\n",
       "      <th>3</th>\n",
       "      <td>Eixample</td>\n",
       "      <td>2</td>\n",
       "      <td>l'Antiga Esquerra de l'Eixample</td>\n",
       "      <td>45</td>\n",
       "      <td>339</td>\n",
       "      <td>2019</td>\n",
       "      <td>43228.0</td>\n",
       "      <td>32161.6</td>\n",
       "      <td>11066.4</td>\n",
       "    </tr>\n",
       "    <tr>\n",
       "      <th>4</th>\n",
       "      <td>Eixample</td>\n",
       "      <td>2</td>\n",
       "      <td>la Nova Esquerra de l'Eixample</td>\n",
       "      <td>55</td>\n",
       "      <td>350</td>\n",
       "      <td>2019</td>\n",
       "      <td>58621.0</td>\n",
       "      <td>46252.0</td>\n",
       "      <td>12369.0</td>\n",
       "    </tr>\n",
       "  </tbody>\n",
       "</table>\n",
       "</div>"
      ],
      "text/plain": [
       "       district  district_id                    neighbourhood  \\\n",
       "0  Ciutat Vella            1                         el Raval   \n",
       "1  Ciutat Vella            1                   la Barceloneta   \n",
       "2      Eixample            2           la Dreta de l'Eixample   \n",
       "3      Eixample            2  l'Antiga Esquerra de l'Eixample   \n",
       "4      Eixample            2   la Nova Esquerra de l'Eixample   \n",
       "\n",
       "   neighbourhood_id  population_id  year  population  spaniards  strangers  \n",
       "0                43            337  2019     48263.0    22731.9    25531.1  \n",
       "1                46            340  2019     15112.0     8991.6     6120.4  \n",
       "2                48            343  2019     44325.0    33066.4    11258.6  \n",
       "3                45            339  2019     43228.0    32161.6    11066.4  \n",
       "4                55            350  2019     58621.0    46252.0    12369.0  "
      ]
     },
     "execution_count": 870,
     "metadata": {},
     "output_type": "execute_result"
    }
   ],
   "source": [
    "popu.head()"
   ]
  },
  {
   "cell_type": "code",
   "execution_count": 871,
   "id": "68ab574a-f196-4ae2-8f5b-0f01959b77af",
   "metadata": {},
   "outputs": [],
   "source": [
    "# Only leave in the one with want. \n",
    "popu.drop(columns=['neighbourhood', 'district','district_id','year'], inplace=True)"
   ]
  },
  {
   "cell_type": "code",
   "execution_count": 872,
   "id": "b8c87177-70a8-4cc4-96e4-4682f2d4812f",
   "metadata": {},
   "outputs": [
    {
     "data": {
      "text/html": [
       "<div>\n",
       "<style scoped>\n",
       "    .dataframe tbody tr th:only-of-type {\n",
       "        vertical-align: middle;\n",
       "    }\n",
       "\n",
       "    .dataframe tbody tr th {\n",
       "        vertical-align: top;\n",
       "    }\n",
       "\n",
       "    .dataframe thead th {\n",
       "        text-align: right;\n",
       "    }\n",
       "</style>\n",
       "<table border=\"1\" class=\"dataframe\">\n",
       "  <thead>\n",
       "    <tr style=\"text-align: right;\">\n",
       "      <th></th>\n",
       "      <th>neighbourhood_id</th>\n",
       "      <th>population_id</th>\n",
       "      <th>population</th>\n",
       "      <th>spaniards</th>\n",
       "      <th>strangers</th>\n",
       "    </tr>\n",
       "  </thead>\n",
       "  <tbody>\n",
       "    <tr>\n",
       "      <th>0</th>\n",
       "      <td>43</td>\n",
       "      <td>337</td>\n",
       "      <td>48263.0</td>\n",
       "      <td>22731.9</td>\n",
       "      <td>25531.1</td>\n",
       "    </tr>\n",
       "    <tr>\n",
       "      <th>1</th>\n",
       "      <td>46</td>\n",
       "      <td>340</td>\n",
       "      <td>15112.0</td>\n",
       "      <td>8991.6</td>\n",
       "      <td>6120.4</td>\n",
       "    </tr>\n",
       "    <tr>\n",
       "      <th>2</th>\n",
       "      <td>48</td>\n",
       "      <td>343</td>\n",
       "      <td>44325.0</td>\n",
       "      <td>33066.4</td>\n",
       "      <td>11258.6</td>\n",
       "    </tr>\n",
       "    <tr>\n",
       "      <th>3</th>\n",
       "      <td>45</td>\n",
       "      <td>339</td>\n",
       "      <td>43228.0</td>\n",
       "      <td>32161.6</td>\n",
       "      <td>11066.4</td>\n",
       "    </tr>\n",
       "    <tr>\n",
       "      <th>4</th>\n",
       "      <td>55</td>\n",
       "      <td>350</td>\n",
       "      <td>58621.0</td>\n",
       "      <td>46252.0</td>\n",
       "      <td>12369.0</td>\n",
       "    </tr>\n",
       "  </tbody>\n",
       "</table>\n",
       "</div>"
      ],
      "text/plain": [
       "   neighbourhood_id  population_id  population  spaniards  strangers\n",
       "0                43            337     48263.0    22731.9    25531.1\n",
       "1                46            340     15112.0     8991.6     6120.4\n",
       "2                48            343     44325.0    33066.4    11258.6\n",
       "3                45            339     43228.0    32161.6    11066.4\n",
       "4                55            350     58621.0    46252.0    12369.0"
      ]
     },
     "execution_count": 872,
     "metadata": {},
     "output_type": "execute_result"
    }
   ],
   "source": [
    "popu.head()"
   ]
  },
  {
   "cell_type": "code",
   "execution_count": 873,
   "id": "30f8abcc-1372-4f22-b461-300f593532c8",
   "metadata": {},
   "outputs": [],
   "source": [
    "# Save the popu df. \n",
    "#popu.to_csv('population.csv', index=True)"
   ]
  },
  {
   "cell_type": "markdown",
   "id": "a7cfc362-40ed-4591-9631-d35124697a09",
   "metadata": {},
   "source": [
    "### BIN"
   ]
  },
  {
   "cell_type": "code",
   "execution_count": 874,
   "id": "6b898de7-53c6-4429-aec1-f366897c14f2",
   "metadata": {},
   "outputs": [],
   "source": [
    "neighbourhood.drop_duplicates(inplace=True)"
   ]
  },
  {
   "cell_type": "code",
   "execution_count": 875,
   "id": "10793c42-10ba-4223-a077-6ed2356e6930",
   "metadata": {},
   "outputs": [
    {
     "data": {
      "text/html": [
       "<div>\n",
       "<style scoped>\n",
       "    .dataframe tbody tr th:only-of-type {\n",
       "        vertical-align: middle;\n",
       "    }\n",
       "\n",
       "    .dataframe tbody tr th {\n",
       "        vertical-align: top;\n",
       "    }\n",
       "\n",
       "    .dataframe thead th {\n",
       "        text-align: right;\n",
       "    }\n",
       "</style>\n",
       "<table border=\"1\" class=\"dataframe\">\n",
       "  <thead>\n",
       "    <tr style=\"text-align: right;\">\n",
       "      <th></th>\n",
       "      <th>district_id</th>\n",
       "      <th>neighbourhood</th>\n",
       "      <th>neighbourhood_id</th>\n",
       "    </tr>\n",
       "  </thead>\n",
       "  <tbody>\n",
       "    <tr>\n",
       "      <th>0</th>\n",
       "      <td>1</td>\n",
       "      <td>el Raval</td>\n",
       "      <td>43</td>\n",
       "    </tr>\n",
       "    <tr>\n",
       "      <th>4</th>\n",
       "      <td>1</td>\n",
       "      <td>Gothic Quarter</td>\n",
       "      <td>6</td>\n",
       "    </tr>\n",
       "    <tr>\n",
       "      <th>8</th>\n",
       "      <td>1</td>\n",
       "      <td>la Barceloneta</td>\n",
       "      <td>46</td>\n",
       "    </tr>\n",
       "    <tr>\n",
       "      <th>12</th>\n",
       "      <td>1</td>\n",
       "      <td>Sant Pere, Santa Caterina i la Ribera</td>\n",
       "      <td>21</td>\n",
       "    </tr>\n",
       "    <tr>\n",
       "      <th>16</th>\n",
       "      <td>2</td>\n",
       "      <td>Fort Pienc</td>\n",
       "      <td>5</td>\n",
       "    </tr>\n",
       "  </tbody>\n",
       "</table>\n",
       "</div>"
      ],
      "text/plain": [
       "    district_id                          neighbourhood  neighbourhood_id\n",
       "0             1                               el Raval                43\n",
       "4             1                         Gothic Quarter                 6\n",
       "8             1                         la Barceloneta                46\n",
       "12            1  Sant Pere, Santa Caterina i la Ribera                21\n",
       "16            2                             Fort Pienc                 5"
      ]
     },
     "execution_count": 875,
     "metadata": {},
     "output_type": "execute_result"
    }
   ],
   "source": [
    "neighbourhood.head()"
   ]
  },
  {
   "cell_type": "code",
   "execution_count": 876,
   "id": "fe6ded66-13ce-4938-81fe-0ede60cc7340",
   "metadata": {},
   "outputs": [],
   "source": [
    "# Save neighbourhood df. \n",
    "# neighbourhood.to_csv('neighbourhood.csv', index=True)"
   ]
  }
 ],
 "metadata": {
  "kernelspec": {
   "display_name": "Python 3 (ipykernel)",
   "language": "python",
   "name": "python3"
  },
  "language_info": {
   "codemirror_mode": {
    "name": "ipython",
    "version": 3
   },
   "file_extension": ".py",
   "mimetype": "text/x-python",
   "name": "python",
   "nbconvert_exporter": "python",
   "pygments_lexer": "ipython3",
   "version": "3.11.7"
  }
 },
 "nbformat": 4,
 "nbformat_minor": 5
}
